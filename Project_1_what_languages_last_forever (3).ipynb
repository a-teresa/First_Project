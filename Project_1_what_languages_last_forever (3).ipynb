{
 "cells": [
  {
   "cell_type": "markdown",
   "id": "cb4f45c0",
   "metadata": {},
   "source": [
    "## What languages will last forever?"
   ]
  },
  {
   "cell_type": "markdown",
   "id": "9571b43d",
   "metadata": {},
   "source": [
    "## 1 - Business Understanding."
   ]
  },
  {
   "cell_type": "markdown",
   "id": "e480f1de",
   "metadata": {},
   "source": [
    "### Understanding the on demand languages helps not only  business (ex. education) but also individuals who want to develop their carreer. \n",
    "\n",
    "###  In order to understand the most required and / or desired programming languages, we will answer the following main questions:\n",
    "\n",
    "### I - What are the most popular programming languages in each year?\n",
    "\n",
    "### II - Languages of the future: which are the programming languages that people most desire to learn?\n",
    "\n",
    "### III - The more languages you know the higher your salary?\n",
    "\n"
   ]
  },
  {
   "cell_type": "markdown",
   "id": "a604b77a",
   "metadata": {},
   "source": [
    "### The present analysis is based on [Stack Overflow Survey - Multiple Years results](https://insights.stackoverflow.com/survey)."
   ]
  },
  {
   "cell_type": "code",
   "execution_count": 1,
   "id": "d3c4b0c8",
   "metadata": {},
   "outputs": [
    {
     "name": "stdout",
     "output_type": "stream",
     "text": [
      "Libraries imported!\n"
     ]
    }
   ],
   "source": [
    "#importing libraries\n",
    "import numpy as np\n",
    "import pandas as pd\n",
    "import matplotlib.pyplot as plt\n",
    "from collections import defaultdict\n",
    "import seaborn as sns\n",
    "from sklearn.linear_model import LinearRegression\n",
    "from sklearn.model_selection import train_test_split\n",
    "from sklearn.metrics import r2_score, mean_squared_error\n",
    "%matplotlib inline\n",
    "print('Libraries imported!')"
   ]
  },
  {
   "cell_type": "markdown",
   "id": "a24fa0ce",
   "metadata": {},
   "source": [
    "#### i) Reading the files using pandas:"
   ]
  },
  {
   "cell_type": "code",
   "execution_count": 2,
   "id": "f260a65a",
   "metadata": {},
   "outputs": [],
   "source": [
    "#Dataframes 2011 - 2021\n",
    "res_2011 = pd.read_csv('stackoverflow_results_2011.csv', encoding = \"ISO-8859-1\", low_memory=False)\n",
    "res_2012 = pd.read_csv('stackoverflow_results_2012.csv', encoding = \"ISO-8859-1\", low_memory=False)\n",
    "res_2013 = pd.read_csv('stackoverflow_results_2013.csv', encoding = \"ISO-8859-1\", low_memory=False)\n",
    "res_2014 = pd.read_csv('stackoverflow_results_2014.csv', low_memory=False)\n",
    "res_2015 = pd.read_csv('stackoverflow_results_2015.csv', low_memory=False)\n",
    "df_2016 = pd.read_csv('stackoverflow_results_2016.csv', low_memory=False)\n",
    "df_2017 = pd.read_csv('stackoverflow_results_2017.csv',low_memory=False)\n",
    "df_2018 = pd.read_csv('stackoverflow_results_2018.csv', low_memory=False)\n",
    "df_2019 = pd.read_csv('stackoverflow_results_2019.csv', low_memory=False)\n",
    "df_2020 = pd.read_csv('stackoverflow_results_2020.csv', low_memory=False)\n",
    "df_2021 = pd.read_csv('survey_results_public.csv', low_memory=False)"
   ]
  },
  {
   "cell_type": "code",
   "execution_count": 3,
   "id": "f01c7de2",
   "metadata": {},
   "outputs": [],
   "source": [
    "# Survey schemas\n",
    "schema_2017 = pd.read_csv ('schema_2017.csv')\n",
    "schema_2018 = pd.read_csv ('schema_2018.csv')\n",
    "schema_2019 = pd.read_csv ('schema_2019.csv')\n",
    "schema_2020 = pd.read_csv ('schema_2020.csv')\n",
    "schema_2021 = pd.read_csv ('survey_results_schema.csv')"
   ]
  },
  {
   "cell_type": "markdown",
   "id": "b46de018",
   "metadata": {},
   "source": [
    "#### ii) Clean columns to better undestand data"
   ]
  },
  {
   "cell_type": "code",
   "execution_count": 4,
   "id": "fe3abf44",
   "metadata": {},
   "outputs": [],
   "source": [
    "#drop name of columns listed as \"unnamed\"\n",
    "df_2011 = res_2011.drop(res_2011.columns[res_2011.columns.str.contains('unnamed',case = False)],axis = 1)\n",
    "df_2012 = res_2012.drop(res_2012.columns[res_2012.columns.str.contains('unnamed',case = False)],axis = 1)\n",
    "df_2013 = res_2013.drop(res_2013.columns[res_2013.columns.str.contains('unnamed',case = False)],axis = 1)\n",
    "df_2014 = res_2014.drop(res_2014.columns[res_2014.columns.str.contains('unnamed',case = False)],axis = 1)\n",
    "df_2015 = res_2015.rename(columns=res_2015.iloc[0]) #first row is the title column"
   ]
  },
  {
   "cell_type": "markdown",
   "id": "590cf957",
   "metadata": {},
   "source": [
    "### 2- Data Understanding. "
   ]
  },
  {
   "cell_type": "markdown",
   "id": "bd8fc1f7",
   "metadata": {},
   "source": [
    "### 2.1) Looking at the data "
   ]
  },
  {
   "cell_type": "markdown",
   "id": "afe473f9",
   "metadata": {},
   "source": [
    "#### i) Size of datasets"
   ]
  },
  {
   "cell_type": "markdown",
   "id": "9bfeb89a",
   "metadata": {},
   "source": [
    "#### Number of rows and columns in datasets:  \n",
    "(reference: table construction with [Jupyter Notebook extensions](https://jupyter-contrib-nbextensions.readthedocs.io/en/latest/index.html))\n"
   ]
  },
  {
   "cell_type": "markdown",
   "id": "c821218b",
   "metadata": {
    "variables": {
     "df_2011.shape[0]": "2814",
     "df_2011.shape[1]": "19",
     "df_2012.shape[0]": "6244",
     "df_2012.shape[1]": "24",
     "df_2013.shape[0]": "9743",
     "df_2013.shape[1]": "29",
     "df_2014.shape[0]": "7644",
     "df_2014.shape[1]": "37",
     "df_2015.shape[0]": "26087",
     "df_2015.shape[1]": "222",
     "df_2016.shape[0]": "56030",
     "df_2016.shape[1]": "66",
     "df_2017.shape[0]": "51392",
     "df_2017.shape[1]": "154",
     "df_2018.shape[0]": "98855",
     "df_2018.shape[1]": "129",
     "df_2019.shape[0]": "88883",
     "df_2019.shape[1]": "85",
     "df_2020.shape[0]": "64461",
     "df_2020.shape[1]": "61",
     "df_2021.shape[0]": "83439",
     "df_2021.shape[1]": "48"
    }
   },
   "source": [
    "|  | number of answers | Columns|\n",
    "|--|    --- | ----|\n",
    "|stackoverflow results: 2011| {{df_2011.shape[0]}}|   {{df_2011.shape[1]}}|\n",
    "|stackoverflow results: 2012| {{df_2012.shape[0]}}|   {{df_2012.shape[1]}}|\n",
    "|stackoverflow results: 2013| {{df_2013.shape[0]}}|   {{df_2013.shape[1]}}| \n",
    "|stackoverflow results: 2014| {{df_2014.shape[0]}}| {{df_2014.shape[1]}}| \n",
    "|stackoverflow results: 2015| {{df_2015.shape[0]}}| {{df_2015.shape[1]}}| \n",
    "|stackoverflow results: 2016|  {{df_2016.shape[0]}}| {{df_2016.shape[1]}}|\n",
    "|stackoverflow results: 2017 | {{df_2017.shape[0]}}| {{df_2017.shape[1]}}|\n",
    "|stackoverflow results: 2018 | {{df_2018.shape[0]}}| {{df_2018.shape[1]}}|\n",
    "|stackoverflow results: 2019 | {{df_2019.shape[0]}}| {{df_2019.shape[1]}}|\n",
    "|stackoverflow results: 2020 | {{df_2020.shape[0]}}| {{df_2020.shape[1]}}|\n",
    "|stackoverflow results: 2021 | {{df_2021.shape[0]}}| {{df_2021.shape[1]}}|"
   ]
  },
  {
   "cell_type": "code",
   "execution_count": 41,
   "id": "f033226c",
   "metadata": {},
   "outputs": [
    {
     "data": {
      "image/png": "[encoded data removed]",
      "text/plain": [
       "<Figure size 432x288 with 1 Axes>"
      ]
     },
     "metadata": {
      "needs_background": "light"
     },
     "output_type": "display_data"
    }
   ],
   "source": [
    "year = ['2011','2012','2013','2014', '2015', '2016','2017','2018','2019','2020','2021']\n",
    "num = [2.814,6.244,9.743,7.644,26.087,56.030, 51.392,98.855,88.883,64.461, 83.439]\n",
    "line = plt.bar(year,num)\n",
    "plt.xlabel('Year')\n",
    "plt.ylabel(\"Number of answers\")\n",
    "\n",
    "for i in range(len(num)):\n",
    "    plt.annotate(str(num[i]), xy=(year[i],num[i]), ha='center', va='bottom')\n",
    "plt.title('Number of answers/year - Stack Overflow survey')\n",
    "plt.show()\n"
   ]
  },
  {
   "cell_type": "markdown",
   "id": "33a6449f",
   "metadata": {},
   "source": [
    "#### Observation 1: the number of participants of the Stack Overflow survey has increased significantly after 2016.  \n",
    "\n",
    "#### Why is this important?\n",
    "\n",
    "#### In order to prevent bias in conclusions we will have to remember that the samples have significant different sizes."
   ]
  },
  {
   "cell_type": "markdown",
   "id": "b676598f",
   "metadata": {},
   "source": [
    "#### ii) Columns that have no missing values in each dataframe: "
   ]
  },
  {
   "cell_type": "markdown",
   "id": "fea6212f",
   "metadata": {
    "variables": {
     "set(df_2011.columns[df_2011.isnull().mean()==0])": "{&#39;What Country or Region do you live in?&#39;}",
     "set(df_2012.columns[df_2012.isnull().mean()==0])": "{&#39;What Country or Region do you live in?&#39;}",
     "set(df_2013.columns[df_2013.isnull().mean()==0])": "set()",
     "set(df_2014.columns[df_2014.isnull().mean()==0])": "{&#39;What Country do you live in?&#39;}",
     "set(df_2015.columns[df_2015.isnull().mean()==0])": "set()",
     "set(df_2016.columns[df_2016.isnull().mean()==0])": "{&#39;Unnamed: 0&#39;, &#39;collector&#39;}",
     "set(df_2017.columns[df_2017.isnull().mean()==0])": "{&#39;Country&#39;,\n &#39;EmploymentStatus&#39;,\n &#39;FormalEducation&#39;,\n &#39;Professional&#39;,\n &#39;ProgramHobby&#39;,\n &#39;Respondent&#39;,\n &#39;University&#39;}",
     "set(df_2018.columns[df_2018.isnull().mean()==0])": "{&#39;Hobby&#39;, &#39;OpenSource&#39;, &#39;Respondent&#39;}",
     "set(df_2019.columns[df_2019.isnull().mean()==0])": "{&#39;Hobbyist&#39;, &#39;OpenSourcer&#39;, &#39;Respondent&#39;}",
     "set(df_2020.columns[df_2020.isnull().mean()==0])": "{&#39;Respondent&#39;}",
     "set(df_2021.columns[df_2021.isnull().mean()==0])": "{&#39;Country&#39;, &#39;MainBranch&#39;, &#39;ResponseId&#39;}"
    }
   },
   "source": [
    "  | |Columns with no missing values |\n",
    "|--|    --- | \n",
    "|stackoverflow results: 2011| {{set(df_2011.columns[df_2011.isnull().mean()==0])}}|   \n",
    "|stackoverflow results: 2012| {{set(df_2012.columns[df_2012.isnull().mean()==0])}} |  \n",
    "|stackoverflow results: 2013| {{set(df_2013.columns[df_2013.isnull().mean()==0])}}|\n",
    "|stackoverflow results: 2014| {{set(df_2014.columns[df_2014.isnull().mean()==0])}}|\n",
    "|stackoverflow results: 2015| {{set(df_2015.columns[df_2015.isnull().mean()==0])}}|\n",
    "|stackoverflow results: 2016|  {{set(df_2016.columns[df_2016.isnull().mean()==0])}}|\n",
    "|stackoverflow results: 2017| {{set(df_2017.columns[df_2017.isnull().mean()==0])}}|\n",
    "|stackoverflow results: 2018| {{set(df_2018.columns[df_2018.isnull().mean()==0])}} |\n",
    "|stackoverflow results: 2019| {{set(df_2019.columns[df_2019.isnull().mean()==0])}} |\n",
    "|stackoverflow results: 2020| {{set(df_2020.columns[df_2020.isnull().mean()==0])}} |\n",
    "|stackoverflow results: 2021| {{set(df_2021.columns[df_2021.isnull().mean()==0])}} |"
   ]
  },
  {
   "cell_type": "markdown",
   "id": "0d2e277e",
   "metadata": {},
   "source": [
    "#### iii) Columns that have the most missing values (more than 80 %)"
   ]
  },
  {
   "cell_type": "code",
   "execution_count": 61,
   "id": "713d7492",
   "metadata": {},
   "outputs": [],
   "source": [
    "most_miss_11 = set(df_2011.columns[df_2011.isnull().mean() > 0.80])\n",
    "most_miss_12= set(df_2012.columns[df_2012.isnull().mean() > 0.80])\n",
    "most_miss_13 = set(df_2013.columns[df_2013.isnull().mean() > 0.80])\n",
    "most_miss_14 = set(df_2014.columns[df_2014.isnull().mean() > 0.80])\n",
    "most_miss_15 = set(df_2015.columns[df_2015.isnull().mean() > 0.80])\n",
    "most_miss_16 = set(df_2016.columns[df_2016.isnull().mean() > 0.80])\n",
    "most_miss_17 = set(df_2017.columns[df_2017.isnull().mean() > 0.80])\n",
    "most_miss_18 = set(df_2018.columns[df_2018.isnull().mean() > 0.80])\n",
    "most_miss_19 = set(df_2019.columns[df_2019.isnull().mean() > 0.80])\n",
    "most_miss_20 = set(df_2020.columns[df_2020.isnull().mean() > 0.80])\n",
    "most_miss_21 = set(df_2021.columns[df_2021.isnull().mean() > 0.80])"
   ]
  },
  {
   "cell_type": "markdown",
   "id": "f32f0199",
   "metadata": {
    "variables": {
     "most_miss_11": "{&#39;What is your budget for outside expenditures (hardware, software, consulting, etc) for 2011?&#39;}",
     "most_miss_12": "set()",
     "most_miss_13": "{&#39;If you make a software product, how does your company make money? (You can choose more than one)&#39;,\n &#39;Which of the following languages or technologies have you used significantly in the past year?&#39;}",
     "most_miss_14": "{&#39;Which of the following languages or technologies have you used significantly in the past year?&#39;}",
     "most_miss_15": "{&#39;Appealing message traits: Benefits &amp; Perks&#39;,\n &#39;Appealing message traits: Stack Overflow Company Page&#39;,\n &#39;Appealing message traits: Stack Overflow activity mentioned&#39;,\n &#39;Current Lang &amp; Tech: Android&#39;,\n &#39;Current Lang &amp; Tech: AngularJS&#39;,\n &#39;Current Lang &amp; Tech: Arduino&#39;,\n &#39;Current Lang &amp; Tech: C&#39;,\n &#39;Current Lang &amp; Tech: C++&#39;,\n &#39;Current Lang &amp; Tech: C++11&#39;,\n &#39;Current Lang &amp; Tech: Cassandra&#39;,\n &#39;Current Lang &amp; Tech: Clojure&#39;,\n &#39;Current Lang &amp; Tech: Cloud&#39;,\n &#39;Current Lang &amp; Tech: CoffeeScript&#39;,\n &#39;Current Lang &amp; Tech: Cordova&#39;,\n &#39;Current Lang &amp; Tech: Dart&#39;,\n &#39;Current Lang &amp; Tech: F#&#39;,\n &#39;Current Lang &amp; Tech: Go&#39;,\n &#39;Current Lang &amp; Tech: Hadoop&#39;,\n &#39;Current Lang &amp; Tech: Haskell&#39;,\n &#39;Current Lang &amp; Tech: LAMP&#39;,\n &#39;Current Lang &amp; Tech: Matlab&#39;,\n &#39;Current Lang &amp; Tech: MongoDB&#39;,\n &#39;Current Lang &amp; Tech: Node.js&#39;,\n &#39;Current Lang &amp; Tech: Objective-C&#39;,\n &#39;Current Lang &amp; Tech: Perl&#39;,\n &#39;Current Lang &amp; Tech: R&#39;,\n &#39;Current Lang &amp; Tech: Redis&#39;,\n &#39;Current Lang &amp; Tech: Ruby&#39;,\n &#39;Current Lang &amp; Tech: Rust&#39;,\n &#39;Current Lang &amp; Tech: SQL Server&#39;,\n &#39;Current Lang &amp; Tech: Salesforce&#39;,\n &#39;Current Lang &amp; Tech: Scala&#39;,\n &#39;Current Lang &amp; Tech: Sharepoint&#39;,\n &#39;Current Lang &amp; Tech: Spark&#39;,\n &#39;Current Lang &amp; Tech: Swift&#39;,\n &#39;Current Lang &amp; Tech: Visual Basic&#39;,\n &#39;Current Lang &amp; Tech: Windows Phone&#39;,\n &#39;Current Lang &amp; Tech: Wordpress&#39;,\n &#39;Current Lang &amp; Tech: Write-In&#39;,\n &#39;Current Lang &amp; Tech: iOS&#39;,\n &#39;Desktop Operating System: write-in&#39;,\n &#39;Future Lang &amp; Tech: AngularJS&#39;,\n &#39;Future Lang &amp; Tech: Arduino&#39;,\n &#39;Future Lang &amp; Tech: C&#39;,\n &#39;Future Lang &amp; Tech: C++&#39;,\n &#39;Future Lang &amp; Tech: C++11&#39;,\n &#39;Future Lang &amp; Tech: Cassandra&#39;,\n &#39;Future Lang &amp; Tech: Clojure&#39;,\n &#39;Future Lang &amp; Tech: Cloud&#39;,\n &#39;Future Lang &amp; Tech: CoffeeScript&#39;,\n &#39;Future Lang &amp; Tech: Cordova&#39;,\n &#39;Future Lang &amp; Tech: Dart&#39;,\n &#39;Future Lang &amp; Tech: F#&#39;,\n &#39;Future Lang &amp; Tech: Go&#39;,\n &#39;Future Lang &amp; Tech: Hadoop&#39;,\n &#39;Future Lang &amp; Tech: Haskell&#39;,\n &#39;Future Lang &amp; Tech: LAMP&#39;,\n &#39;Future Lang &amp; Tech: Matlab&#39;,\n &#39;Future Lang &amp; Tech: MongoDB&#39;,\n &#39;Future Lang &amp; Tech: Node.js&#39;,\n &#39;Future Lang &amp; Tech: Objective-C&#39;,\n &#39;Future Lang &amp; Tech: PHP&#39;,\n &#39;Future Lang &amp; Tech: Perl&#39;,\n &#39;Future Lang &amp; Tech: R&#39;,\n &#39;Future Lang &amp; Tech: Redis&#39;,\n &#39;Future Lang &amp; Tech: Ruby&#39;,\n &#39;Future Lang &amp; Tech: Rust&#39;,\n &#39;Future Lang &amp; Tech: SQL Server&#39;,\n &#39;Future Lang &amp; Tech: Salesforce&#39;,\n &#39;Future Lang &amp; Tech: Scala&#39;,\n &#39;Future Lang &amp; Tech: Sharepoint&#39;,\n &#39;Future Lang &amp; Tech: Spark&#39;,\n &#39;Future Lang &amp; Tech: Swift&#39;,\n &#39;Future Lang &amp; Tech: Visual Basic&#39;,\n &#39;Future Lang &amp; Tech: Windows Phone&#39;,\n &#39;Future Lang &amp; Tech: Wordpress&#39;,\n &#39;Future Lang &amp; Tech: Write-In&#39;,\n &#39;Future Lang &amp; Tech: iOS&#39;,\n &#39;How can companies improve interview process: Fewer brainteasers&#39;,\n &#39;How can companies improve interview process: Flexible interview schedule&#39;,\n &#39;How can companies improve interview process: Gimme coffee&#39;,\n &#39;How can companies improve interview process: Introduce me to boss&#39;,\n &#39;How can companies improve interview process: More live code&#39;,\n &#39;How can companies improve interview process: Remote interviews&#39;,\n &quot;Most annoying about job search: Finding job I&#39;m qualified for&quot;,\n &#39;Most annoying about job search: Finding time&#39;,\n &#39;Most annoying about job search: Interesting companies rarely respond&#39;,\n &#39;Most annoying about job search: Taking time off work to interview&#39;,\n &#39;Most annoying about job search: The Interview&#39;,\n &#39;Most important aspect of new job opportunity: Advancement&#39;,\n &#39;Most important aspect of new job opportunity: Company culture&#39;,\n &#39;Most important aspect of new job opportunity: Company reputation&#39;,\n &#39;Most important aspect of new job opportunity: Company size&#39;,\n &#39;Most important aspect of new job opportunity: Company stage&#39;,\n &#39;Most important aspect of new job opportunity: Equity&#39;,\n &#39;Most important aspect of new job opportunity: Flexible work options&#39;,\n &#39;Most important aspect of new job opportunity: Health insurance&#39;,\n &#39;Most important aspect of new job opportunity: Important decisions&#39;,\n &#39;Most important aspect of new job opportunity: Industry&#39;,\n &#39;Most important aspect of new job opportunity: Job title&#39;,\n &#39;Most important aspect of new job opportunity: Office location&#39;,\n &#39;Most important aspect of new job opportunity: Quality of colleagues&#39;,\n &#39;Most important aspect of new job opportunity: Remote working&#39;,\n &#39;Most important aspect of new job opportunity: Tech stack&#39;,\n &#39;Most urgent info about job opportunity: Benefits&#39;,\n &#39;Most urgent info about job opportunity: Colleagues&#39;,\n &#39;Most urgent info about job opportunity: Company name&#39;,\n &#39;Most urgent info about job opportunity: Job title&#39;,\n &#39;Prefered Source Control: write-in&#39;,\n &#39;Preferred text editor: write-in&#39;,\n &#39;Source control used: Bitkeeper&#39;,\n &#39;Source control used: CVS&#39;,\n &#39;Source control used: DCVS&#39;,\n &quot;Source control used: I don&#39;t use source control&quot;,\n &#39;Source control used: Legacy / Custom&#39;,\n &#39;Source control used: Mercurial&#39;,\n &#39;Source control used: Perforce&#39;,\n &#39;Source control used: TFS&#39;,\n &#39;Source control used: write-in&#39;,\n &#39;Training &amp; Education: Boot camp or night school&#39;,\n &#39;Training &amp; Education: Industry certification&#39;,\n &#39;Training &amp; Education: Masters in CS&#39;,\n &#39;Training &amp; Education: Mentorship&#39;,\n &#39;Training &amp; Education: Online Class&#39;,\n &#39;Training &amp; Education: Other&#39;,\n &#39;Training &amp; Education: PhD in CS&#39;,\n &#39;Training &amp; Education: Some college, but no CS degree&#39;,\n &#39;Why answer: Demonstrate expertise&#39;,\n &quot;Why answer: I don&#39;t answer and I don&#39;t want to&quot;,\n &#39;Why answer: No idea&#39;,\n &#39;Why answer: Self promotion&#39;,\n &#39;Why answer: Sense of responsibility to developers&#39;,\n &#39;Why try Stack Overflow Careers: Jobs are on Stack Overflow&#39;,\n &#39;Why try Stack Overflow Careers: No spam&#39;,\n &#39;Why try Stack Overflow Careers: Other&#39;,\n &#39;Why try Stack Overflow Careers: Selection of revelant jobs&#39;,\n &#39;Why try Stack Overflow Careers: Showcase Stack Overflow activity&#39;,\n &quot;Why use Stack Overflow: Can&#39;t do job without it&quot;,\n &#39;Why use Stack Overflow: Communicate with others&#39;,\n &#39;Why use Stack Overflow: Demonstrate expertise&#39;,\n &quot;Why use Stack Overflow: I don&#39;t use Stack Overflow&quot;,\n &#39;Why use Stack Overflow: Maintain online presence&#39;}",
     "most_miss_16": "set()",
     "most_miss_17": "{&#39;ExCoder10Years&#39;,\n &#39;ExCoderActive&#39;,\n &#39;ExCoderBalance&#39;,\n &#39;ExCoderBelonged&#39;,\n &#39;ExCoderNotForMe&#39;,\n &#39;ExCoderReturn&#39;,\n &#39;ExCoderSkills&#39;,\n &#39;ExCoderWillNotCode&#39;,\n &#39;ExpectedSalary&#39;,\n &#39;MobileDeveloperType&#39;,\n &#39;NonDeveloperType&#39;,\n &#39;TimeAfterBootcamp&#39;,\n &#39;YearsCodedJobPast&#39;}",
     "most_miss_18": "{&#39;MilitaryUS&#39;, &#39;TimeAfterBootcamp&#39;}",
     "most_miss_19": "set()",
     "most_miss_20": "set()",
     "most_miss_21": "{&#39;UK_Country&#39;, &#39;US_State&#39;}"
    }
   },
   "source": [
    " | |Most missing values: more than 80% |\n",
    "|--|    --- | \n",
    "|stackoverflow results: 2011| {{most_miss_11}}|   \n",
    "|stackoverflow results: 2012| {{most_miss_12}}|  \n",
    "|stackoverflow results: 2013| {{most_miss_13}}|\n",
    "|stackoverflow results: 2014| {{most_miss_14}}|\n",
    "|stackoverflow results: 2015| {{most_miss_15}}|\n",
    "|stackoverflow results: 2016| {{most_miss_16}}|\n",
    "|stackoverflow results: 2017| {{most_miss_17}}|\n",
    "|stackoverflow results: 2018| {{most_miss_18}}|\n",
    "|stackoverflow results: 2019| {{most_miss_19}}|\n",
    "|stackoverflow results: 2020| {{most_miss_20}}|\n",
    "|stackoverflow results: 2021| {{most_miss_21}}|"
   ]
  },
  {
   "cell_type": "markdown",
   "id": "44a26e05",
   "metadata": {},
   "source": [
    "#### Observation 2:  \n",
    "The 2015 dataframe is the one which has more columns with > 80% with missing values. \n",
    "Maybe it is caused by multiple choice questions that are displayed by several columns?     \n",
    "If we briefly investigate:"
   ]
  },
  {
   "cell_type": "code",
   "execution_count": 448,
   "id": "33dc8100",
   "metadata": {},
   "outputs": [],
   "source": [
    "c_plus_plus = ((df_2015.iloc[:,12]).dropna()).value_counts()/df_2015.shape[0] # 2015 c++\n",
    "python = ((df_2015.iloc[:,35]).dropna()).value_counts()/df_2015.shape[0] # 2015 python\n",
    "hadoop = ((df_2015.iloc[:,23]).dropna()).value_counts()/df_2015.shape[0]\n",
    "java = ((df_2015.iloc[:,26]).dropna()).value_counts()/df_2015.shape[0]\n",
    "javascript = ((df_2015.iloc[:,27]).dropna()).value_counts()/df_2015.shape[0]\n",
    "sql = ((df_2015.iloc[:,44]).dropna()).value_counts()/df_2015.shape[0]"
   ]
  },
  {
   "cell_type": "markdown",
   "id": "52e15f6d",
   "metadata": {
    "variables": {
     "c_plus_plus": "C++                         0.173611\nCurrent Lang &amp; Tech: C++    0.000038\nName: Current Lang &amp; Tech: C++, dtype: float64",
     "hadoop": "Hadoop                         0.013110\nCurrent Lang &amp; Tech: Hadoop    0.000038\nName: Current Lang &amp; Tech: Hadoop, dtype: float64",
     "java": "Java                         0.315061\nCurrent Lang &amp; Tech: Java    0.000038\nName: Current Lang &amp; Tech: Java, dtype: float64",
     "javascript": "JavaScript                         0.458543\nCurrent Lang &amp; Tech: JavaScript    0.000038\nName: Current Lang &amp; Tech: JavaScript, dtype: float64",
     "python": "Python                         0.200790\nCurrent Lang &amp; Tech: Python    0.000038\nName: Current Lang &amp; Tech: Python, dtype: float64",
     "sql": "SQL                         0.361828\nCurrent Lang &amp; Tech: SQL    0.000038\nName: Current Lang &amp; Tech: SQL, dtype: float64"
    }
   },
   "source": [
    "| |Example to see what's happening in df_2015 |\n",
    "|--|    --- | \n",
    "|C ++| {{c_plus_plus}}|   \n",
    "|Hadoop| {{hadoop}} |  \n",
    "|Java| {{java}}|\n",
    "|Javascript| {{javascript}}|\n",
    "|Python| {{python}}|\n",
    "|SQL  |{{sql}}|"
   ]
  },
  {
   "cell_type": "markdown",
   "id": "6b199631",
   "metadata": {},
   "source": [
    "And it seems that it's possible to reach the proportion of individuals that used each programming language (and it explains the high proportion of null values in each of these columns)."
   ]
  },
  {
   "cell_type": "markdown",
   "id": "606e5d79",
   "metadata": {},
   "source": [
    "#### iv) First glance: select main columns of interest; making some questions...  \n",
    "We want to select the results (columns) that will allow us to answer our main questions. \n",
    "We first investigate the most popular programming languages currently used in each year:"
   ]
  },
  {
   "cell_type": "markdown",
   "id": "9846fac1",
   "metadata": {},
   "source": [
    "#### Most popular language in 2011: Java"
   ]
  },
  {
   "cell_type": "code",
   "execution_count": 65,
   "id": "ad93ab9a",
   "metadata": {},
   "outputs": [
    {
     "data": {
      "text/plain": [
       "Java    0.306326\n",
       "Name: Which languages are you proficient in?, dtype: float64"
      ]
     },
     "execution_count": 65,
     "metadata": {},
     "output_type": "execute_result"
    }
   ],
   "source": [
    "#most popular language in 2011: languages proficiency - Java\n",
    "lang_11 = (((df_2011.iloc[:,12]).dropna()).value_counts())/df_2011.shape[0] #drop null values and get proportion\n",
    "lang_11"
   ]
  },
  {
   "cell_type": "markdown",
   "id": "b06e9d04",
   "metadata": {},
   "source": [
    "#### Most popular language in 2012: Java"
   ]
  },
  {
   "cell_type": "code",
   "execution_count": 71,
   "id": "35bd0d4b",
   "metadata": {},
   "outputs": [
    {
     "data": {
      "text/plain": [
       "Java    0.376201\n",
       "Name: Which languages are you proficient in?, dtype: float64"
      ]
     },
     "execution_count": 71,
     "metadata": {},
     "output_type": "execute_result"
    }
   ],
   "source": [
    "#most popular language in 2012 - Java\n",
    "lang_12 = (((df_2012.iloc[:,11]).dropna()).value_counts())/df_2012.shape[0] #drop null values and get proportion\n",
    "lang_12"
   ]
  },
  {
   "cell_type": "markdown",
   "id": "4160d101",
   "metadata": {},
   "source": [
    "#### Most popular language in 2013: C"
   ]
  },
  {
   "cell_type": "code",
   "execution_count": 79,
   "id": "17f798ec",
   "metadata": {},
   "outputs": [
    {
     "data": {
      "text/plain": [
       "C    0.147491\n",
       "Name: Which of the following languages or technologies have you used significantly in the past year?, dtype: float64"
      ]
     },
     "execution_count": 79,
     "metadata": {},
     "output_type": "execute_result"
    }
   ],
   "source": [
    "#most popular languages in 2013: languages used in past year\n",
    "lang_13 = (((df_2013.iloc[:,16]).dropna()).value_counts())/df_2013.shape[0] #drop null values and get proportion\n",
    "lang_13"
   ]
  },
  {
   "cell_type": "markdown",
   "id": "cc2dc154",
   "metadata": {},
   "source": [
    "#### Most popular language in 2014: C"
   ]
  },
  {
   "cell_type": "code",
   "execution_count": 88,
   "id": "a12f9dab",
   "metadata": {},
   "outputs": [
    {
     "data": {
      "text/plain": [
       "C    0.153715\n",
       "Name: Which of the following languages or technologies have you used significantly in the past year?, dtype: float64"
      ]
     },
     "execution_count": 88,
     "metadata": {},
     "output_type": "execute_result"
    }
   ],
   "source": [
    "#most popular languages in 2014: languages used in past year - C\n",
    "lang_14 = (((df_2014.iloc[:,17]).dropna()).value_counts())/df_2014.shape[0] #drop null values and get proportion\n",
    "lang_14"
   ]
  },
  {
   "cell_type": "markdown",
   "id": "95ac830f",
   "metadata": {},
   "source": [
    "#### Most popular language in 2015: Javascript"
   ]
  },
  {
   "cell_type": "code",
   "execution_count": 157,
   "id": "15f78a20",
   "metadata": {},
   "outputs": [
    {
     "data": {
      "text/plain": [
       "JavaScript                         0.458543\n",
       "Current Lang & Tech: JavaScript    0.000038\n",
       "Name: Current Lang & Tech: JavaScript, dtype: float64"
      ]
     },
     "execution_count": 157,
     "metadata": {},
     "output_type": "execute_result"
    }
   ],
   "source": [
    "#most popular languages in 2015: languages used in past year - Javascript\n",
    "lang_15 = (((df_2015.iloc[:,27]).dropna()).value_counts())/df_2015.shape[0]\n",
    "lang_15"
   ]
  },
  {
   "cell_type": "markdown",
   "id": "f8c0d00a",
   "metadata": {},
   "source": [
    "Javascript is the most popular programming language in 2015:\n",
    "\n",
    "Android-> 15,8%; C -> 13,84%; PHP->25%; Python -> 20,1%; SQL-> 36,2%; SQL Server-> 15,8%; java->31,5%; javascript -> 45,9%"
   ]
  },
  {
   "cell_type": "markdown",
   "id": "6d3bec6d",
   "metadata": {},
   "source": [
    "### A)  Until now (2011-2015):\n",
    "\n",
    "#### 1) Java is the top language (and the only one listed) in 2011 and 2012;\n",
    "#### 2) C is the most used language (and the only one listed) in 2013 and 2014;\n",
    "#### 3) Javascript is the most used language in 2015."
   ]
  },
  {
   "cell_type": "markdown",
   "id": "d875ad88",
   "metadata": {},
   "source": [
    "### B) Some questions about A):\n",
    "\n",
    "#### 1) Why until 2014 only one programming language is selected?\n",
    "\n",
    "#### It could be for multiple factors, but we must be sure:\n",
    "#### - it is not because of null values \n",
    "#### - or because there are no diversification in occupations."
   ]
  },
  {
   "cell_type": "markdown",
   "id": "e1099a80",
   "metadata": {},
   "source": [
    "#### Let's select an year that has the lowest value for the programming language choice - 2013:"
   ]
  },
  {
   "cell_type": "code",
   "execution_count": 207,
   "id": "174f4ac9",
   "metadata": {},
   "outputs": [
    {
     "data": {
      "text/plain": [
       "15.641999384173252"
      ]
     },
     "execution_count": 207,
     "metadata": {},
     "output_type": "execute_result"
    }
   ],
   "source": [
    "(df_2013.iloc[:,6]).isnull().sum()/len(df_2013)*100 #proportion of null values in 2013\n"
   ]
  },
  {
   "cell_type": "markdown",
   "id": "71dfc59b",
   "metadata": {},
   "source": [
    "#### The proportion of null values is in 15%.\n",
    "\n",
    "#### Now let's plot occupations:"
   ]
  },
  {
   "cell_type": "code",
   "execution_count": 209,
   "id": "bea0c1e5",
   "metadata": {
    "scrolled": false
   },
   "outputs": [
    {
     "data": {
      "text/plain": [
       "Text(0.5, 1.0, 'Which of the following best describes your occupation? (2013)')"
      ]
     },
     "execution_count": 209,
     "metadata": {},
     "output_type": "execute_result"
    },
    {
     "data": {
      "image/png": "[encoded data removed]",
      "text/plain": [
       "<Figure size 432x288 with 1 Axes>"
      ]
     },
     "metadata": {
      "needs_background": "light"
     },
     "output_type": "display_data"
    }
   ],
   "source": [
    "#drop null values,get proportion and plot\n",
    "((((df_2013.iloc[:,6]).dropna()).value_counts())/df_2013.shape[0]).plot(kind=\"bar\") \n",
    "plt.title('Which of the following best describes your occupation? (2013)')"
   ]
  },
  {
   "cell_type": "markdown",
   "id": "08989b6f",
   "metadata": {},
   "source": [
    "#### Now, to get a clearer idea, we'll plot the occupations of 2015 (- because it has a much more diverse list of programming languages, as we have seen above):"
   ]
  },
  {
   "cell_type": "code",
   "execution_count": 216,
   "id": "9aa215ce",
   "metadata": {},
   "outputs": [
    {
     "data": {
      "text/plain": [
       "Text(0.5, 1.0, 'Occupation (2015)')"
      ]
     },
     "execution_count": 216,
     "metadata": {},
     "output_type": "execute_result"
    },
    {
     "data": {
      "image/png": "[encoded data removed]",
      "text/plain": [
       "<Figure size 432x288 with 1 Axes>"
      ]
     },
     "metadata": {
      "needs_background": "light"
     },
     "output_type": "display_data"
    }
   ],
   "source": [
    "#drop null values,get proportion and plot\n",
    "((((df_2015.iloc[:,5]).dropna()).value_counts())/df_2015.shape[0]).plot(kind=\"bar\")\n",
    "plt.title('Occupation (2015)')"
   ]
  },
  {
   "cell_type": "markdown",
   "id": "dd7cdb8f",
   "metadata": {},
   "source": [
    "### Coutries - analyse sample diversification"
   ]
  },
  {
   "cell_type": "markdown",
   "id": "57c4c295",
   "metadata": {},
   "source": [
    "#### From 2015 there are multiple countries represented (inspite of a low number of answers when compared with other years):"
   ]
  },
  {
   "cell_type": "code",
   "execution_count": 24,
   "id": "5957359f",
   "metadata": {},
   "outputs": [
    {
     "data": {
      "text/plain": [
       "United States             4745\n",
       "India                     2461\n",
       "United Kingdom            2403\n",
       "Germany                   1976\n",
       "Poland                     833\n",
       "                          ... \n",
       "San Marino                   1\n",
       "Mauritania                   1\n",
       "Liechtenstein                1\n",
       "Congo {Democratic Rep}       1\n",
       "Vanuatu                      1\n",
       "Name: Country, Length: 157, dtype: int64"
      ]
     },
     "execution_count": 24,
     "metadata": {},
     "output_type": "execute_result"
    }
   ],
   "source": [
    "((df_2015.iloc[:,0]).dropna()).value_counts()"
   ]
  },
  {
   "cell_type": "markdown",
   "id": "a8cbc647",
   "metadata": {},
   "source": [
    "#### But until 2015, the sample was very homogeneous:"
   ]
  },
  {
   "cell_type": "code",
   "execution_count": 22,
   "id": "558855c7",
   "metadata": {},
   "outputs": [
    {
     "data": {
      "text/plain": [
       "California        286\n",
       "New York          171\n",
       "Washington        110\n",
       "Texas             105\n",
       "Pennsylvania       96\n",
       "Ohio               93\n",
       "Massachusetts      90\n",
       "Illinois           83\n",
       "Florida            81\n",
       "Virginia           76\n",
       "New Jersey         65\n",
       "Colorado           64\n",
       "Minnesota          62\n",
       "Michigan           54\n",
       "Utah               51\n",
       "North Carolina     50\n",
       "Maryland           49\n",
       "Wisconsin          47\n",
       "Missouri           42\n",
       "Oregon             40\n",
       "Georgia            40\n",
       "Arizona            39\n",
       "Tennessee          31\n",
       "Indiana            22\n",
       "Connecticut        22\n",
       "Iowa               22\n",
       "Alabama            22\n",
       "Kansas             19\n",
       "New Hampshire      18\n",
       "Nebraska           17\n",
       "South Carolina     16\n",
       "Idaho              16\n",
       "Oklahoma           15\n",
       "Kentucky           13\n",
       "Washington DC      12\n",
       "Nevada              9\n",
       "Vermont             8\n",
       "Alaska              7\n",
       "Arkansas            6\n",
       "Louisiana           5\n",
       "Montana             5\n",
       "Rhode Island        5\n",
       "Mississippi         4\n",
       "Delaware            4\n",
       "South Dakota        4\n",
       "New Mexico          3\n",
       "North Dakota        3\n",
       "Wyoming             2\n",
       "Maine               2\n",
       "West Virginia       1\n",
       "Puerto Rico         1\n",
       "Response            1\n",
       "Name: Which US State or Territory do you live in?, dtype: int64"
      ]
     },
     "execution_count": 22,
     "metadata": {},
     "output_type": "execute_result"
    }
   ],
   "source": [
    "((df_2014.iloc[:,1]).dropna()).value_counts()"
   ]
  },
  {
   "cell_type": "markdown",
   "id": "cb348f59",
   "metadata": {},
   "source": [
    "#### In fact, 2015 has a much more diverse sample (comparing with 2011 - 2014).\n",
    "\n",
    "#### However, we ought to make a decision:"
   ]
  },
  {
   "cell_type": "markdown",
   "id": "28834752",
   "metadata": {},
   "source": [
    "### Problems: \n",
    "\n",
    "#### Until 2014 the samples are very restricted: \n",
    "#### 1 - only one preferred language pointed;\n",
    "#### (and until 2015 we also have:)\n",
    "#### 2 - low number of respondents (in comparison with 2016 - 2021);\n",
    "#### 3 - less information to compare in order to understand our main goals.\n",
    "\n",
    "#### In fact, all the survey answers in the first five years (2011-2015: 52532 answers) are less than only one year between 2016 - 2021 (except 2017 that has 51392 answers).\n",
    "\n",
    "#### If to that problem (of a low /restricted  sample per year) we find some other restrictions:\n",
    "#### - lack of some informations about our main goals (that the other dataframes - 2016: 2021 - have);\n",
    "#### - some possible bias because of retricted representation.\n",
    "\n",
    "#### Because of that enumerated reasons, we'll work only with the datasets from 2016 to 2021. \n"
   ]
  },
  {
   "cell_type": "code",
   "execution_count": 51,
   "id": "af28fc03",
   "metadata": {},
   "outputs": [
    {
     "data": {
      "text/plain": [
       "1                                         iOS; Objective-C\n",
       "6        Android; Arduino / Raspberry Pi; AngularJS; C;...\n",
       "7                          JavaScript; PHP; SQL; WordPress\n",
       "9                                                      PHP\n",
       "10       Arduino / Raspberry Pi; C; C++; Java; JavaScri...\n",
       "                               ...                        \n",
       "56020                              C++; JavaScript; Python\n",
       "56022    Arduino / Raspberry Pi; AngularJS; CoffeeScrip...\n",
       "56024                       Android; C; C++; C#; Java; SQL\n",
       "56026       Arduino / Raspberry Pi; C; Java; Python; Swift\n",
       "56029    Arduino / Raspberry Pi; AngularJS; JavaScript;...\n",
       "Name: tech_do, Length: 49025, dtype: object"
      ]
     },
     "execution_count": 51,
     "metadata": {},
     "output_type": "execute_result"
    }
   ],
   "source": [
    "# most popular language in 2016\n",
    "lang_2016 =(df_2016.iloc[:,16]).dropna() #identify column and remove null values\n",
    "lang_2016"
   ]
  },
  {
   "cell_type": "markdown",
   "id": "119b01d7",
   "metadata": {},
   "source": [
    "#### This data (2016) must be cleaned! -   we'll do it right away.\n",
    "\n",
    "#### But first:"
   ]
  },
  {
   "cell_type": "markdown",
   "id": "c2111aaa",
   "metadata": {},
   "source": [
    "#### a) Before cleaning the data let's create a function that allows consulting the questions of each dataframe (since 2017 it is provided a schema of the survey):"
   ]
  },
  {
   "cell_type": "code",
   "execution_count": 220,
   "id": "7f964481",
   "metadata": {},
   "outputs": [],
   "source": [
    "def read_question_2017(column_name, schema=schema_2017):\n",
    "    '''\n",
    "    INPUT - column_name: string, name of the column that we want to read\n",
    "            schema: pandas dataframe with the schema of the survey\n",
    "    OUTPUT - question: string, the column description that corresponds to the survey question\n",
    "    '''\n",
    "    question = list(schema[schema['Column'] == column_name]['Question'])[0]\n",
    "    return question"
   ]
  },
  {
   "cell_type": "code",
   "execution_count": 43,
   "id": "0d98221e",
   "metadata": {},
   "outputs": [],
   "source": [
    "#we can change the variable schema inside the function to query other years: 2018 - 2020\n",
    "\n",
    "def read_question(column_name, schema=schema_2020):\n",
    "    '''\n",
    "    INPUT - column_name: string, name of the column that we want to read\n",
    "            schema: pandas dataframe with the schema of the survey\n",
    "    OUTPUT - question: string, the column description that corresponds to the survey question\n",
    "    '''\n",
    "    question = list(schema[schema['Column'] == column_name]['QuestionText'])[0]\n",
    "    return question"
   ]
  },
  {
   "cell_type": "code",
   "execution_count": 284,
   "id": "fed56ae3",
   "metadata": {},
   "outputs": [
    {
     "data": {
      "text/plain": [
       "'Which of the following best describes you?'"
      ]
     },
     "execution_count": 284,
     "metadata": {},
     "output_type": "execute_result"
    }
   ],
   "source": [
    "#2017 - reading questions\n",
    "read_question_2017(df_2017.columns[1])"
   ]
  },
  {
   "cell_type": "code",
   "execution_count": 13,
   "id": "f5c63e8a",
   "metadata": {},
   "outputs": [
    {
     "data": {
      "text/plain": [
       "'Which of the following languages have you done extensive development work in over the past year, and which do you want to work in over the next year?'"
      ]
     },
     "execution_count": 13,
     "metadata": {},
     "output_type": "execute_result"
    }
   ],
   "source": [
    "#example: 2017 - reading questions\n",
    "read_question_2017('HaveWorkedLanguage')"
   ]
  },
  {
   "cell_type": "code",
   "execution_count": 24,
   "id": "886d02a9",
   "metadata": {},
   "outputs": [
    {
     "data": {
      "text/plain": [
       "'Imagine that you are assessing a potential job opportunity. Please rank the following aspects of the job opportunity in order of importance (by dragging the choices up and down), where 1 is the most important and 10 is the least important. The diversity of the company or organization'"
      ]
     },
     "execution_count": 24,
     "metadata": {},
     "output_type": "execute_result"
    }
   ],
   "source": [
    "#2018 - reading questions\n",
    "read_question(df_2018.columns[25])"
   ]
  },
  {
   "cell_type": "code",
   "execution_count": 286,
   "id": "7051b9a8",
   "metadata": {},
   "outputs": [
    {
     "data": {
      "text/plain": [
       "'Which of the following options best describes you today? Here, by \"developer\" we mean \"someone who writes code.\"'"
      ]
     },
     "execution_count": 286,
     "metadata": {},
     "output_type": "execute_result"
    }
   ],
   "source": [
    "#2019 - reading questions\n",
    "read_question(df_2019.columns[1])"
   ]
  },
  {
   "cell_type": "code",
   "execution_count": 58,
   "id": "5d1f5092",
   "metadata": {},
   "outputs": [
    {
     "data": {
      "text/plain": [
       "'Do you code as a hobby?'"
      ]
     },
     "execution_count": 58,
     "metadata": {},
     "output_type": "execute_result"
    }
   ],
   "source": [
    "#2020 - reading questions\n",
    "read_question(df_2020.columns[2])"
   ]
  },
  {
   "cell_type": "markdown",
   "id": "b1178a98",
   "metadata": {},
   "source": [
    "### 3 -  Data Preparation."
   ]
  },
  {
   "cell_type": "markdown",
   "id": "48c6a29a",
   "metadata": {},
   "source": [
    "### Gathering and wrangling:"
   ]
  },
  {
   "cell_type": "markdown",
   "id": "5440edec",
   "metadata": {},
   "source": [
    "### Popular Languages: 2016 "
   ]
  },
  {
   "cell_type": "markdown",
   "id": "2b2828e0",
   "metadata": {},
   "source": [
    "#### Have worked Languages \n"
   ]
  },
  {
   "cell_type": "code",
   "execution_count": 52,
   "id": "08f4fb17",
   "metadata": {},
   "outputs": [
    {
     "data": {
      "text/html": [
       "<div>\n",
       "<style scoped>\n",
       "    .dataframe tbody tr th:only-of-type {\n",
       "        vertical-align: middle;\n",
       "    }\n",
       "\n",
       "    .dataframe tbody tr th {\n",
       "        vertical-align: top;\n",
       "    }\n",
       "\n",
       "    .dataframe thead th {\n",
       "        text-align: right;\n",
       "    }\n",
       "</style>\n",
       "<table border=\"1\" class=\"dataframe\">\n",
       "  <thead>\n",
       "    <tr style=\"text-align: right;\">\n",
       "      <th></th>\n",
       "      <th>index</th>\n",
       "      <th>tech_do</th>\n",
       "    </tr>\n",
       "  </thead>\n",
       "  <tbody>\n",
       "    <tr>\n",
       "      <th>0</th>\n",
       "      <td>Java</td>\n",
       "      <td>843</td>\n",
       "    </tr>\n",
       "    <tr>\n",
       "      <th>1</th>\n",
       "      <td>C#</td>\n",
       "      <td>606</td>\n",
       "    </tr>\n",
       "    <tr>\n",
       "      <th>2</th>\n",
       "      <td>C#; JavaScript; SQL; SQL Server</td>\n",
       "      <td>561</td>\n",
       "    </tr>\n",
       "    <tr>\n",
       "      <th>3</th>\n",
       "      <td>Android; Java</td>\n",
       "      <td>515</td>\n",
       "    </tr>\n",
       "    <tr>\n",
       "      <th>4</th>\n",
       "      <td>Python</td>\n",
       "      <td>501</td>\n",
       "    </tr>\n",
       "  </tbody>\n",
       "</table>\n",
       "</div>"
      ],
      "text/plain": [
       "                             index  tech_do\n",
       "0                             Java      843\n",
       "1                               C#      606\n",
       "2  C#; JavaScript; SQL; SQL Server      561\n",
       "3                    Android; Java      515\n",
       "4                           Python      501"
      ]
     },
     "execution_count": 52,
     "metadata": {},
     "output_type": "execute_result"
    }
   ],
   "source": [
    "#2016: tech do\n",
    "work_lang_2016 = lang_2016.value_counts().reset_index()\n",
    "work_lang_2016.head()"
   ]
  },
  {
   "cell_type": "code",
   "execution_count": 54,
   "id": "bf924d28",
   "metadata": {},
   "outputs": [
    {
     "data": {
      "text/html": [
       "<div>\n",
       "<style scoped>\n",
       "    .dataframe tbody tr th:only-of-type {\n",
       "        vertical-align: middle;\n",
       "    }\n",
       "\n",
       "    .dataframe tbody tr th {\n",
       "        vertical-align: top;\n",
       "    }\n",
       "\n",
       "    .dataframe thead th {\n",
       "        text-align: right;\n",
       "    }\n",
       "</style>\n",
       "<table border=\"1\" class=\"dataframe\">\n",
       "  <thead>\n",
       "    <tr style=\"text-align: right;\">\n",
       "      <th></th>\n",
       "      <th>Language</th>\n",
       "      <th>count</th>\n",
       "    </tr>\n",
       "  </thead>\n",
       "  <tbody>\n",
       "    <tr>\n",
       "      <th>0</th>\n",
       "      <td>Java</td>\n",
       "      <td>843</td>\n",
       "    </tr>\n",
       "    <tr>\n",
       "      <th>1</th>\n",
       "      <td>C#</td>\n",
       "      <td>606</td>\n",
       "    </tr>\n",
       "    <tr>\n",
       "      <th>2</th>\n",
       "      <td>C#; JavaScript; SQL; SQL Server</td>\n",
       "      <td>561</td>\n",
       "    </tr>\n",
       "    <tr>\n",
       "      <th>3</th>\n",
       "      <td>Android; Java</td>\n",
       "      <td>515</td>\n",
       "    </tr>\n",
       "    <tr>\n",
       "      <th>4</th>\n",
       "      <td>Python</td>\n",
       "      <td>501</td>\n",
       "    </tr>\n",
       "  </tbody>\n",
       "</table>\n",
       "</div>"
      ],
      "text/plain": [
       "                          Language  count\n",
       "0                             Java    843\n",
       "1                               C#    606\n",
       "2  C#; JavaScript; SQL; SQL Server    561\n",
       "3                    Android; Java    515\n",
       "4                           Python    501"
      ]
     },
     "execution_count": 54,
     "metadata": {},
     "output_type": "execute_result"
    }
   ],
   "source": [
    "work_lang_2016.rename(columns={'index': 'Language', 'tech_do': 'count'}, inplace=True)\n",
    "work_lang_2016.head()"
   ]
  },
  {
   "cell_type": "code",
   "execution_count": 55,
   "id": "4b414b5a",
   "metadata": {},
   "outputs": [],
   "source": [
    "#list of all the possible answers_2016\n",
    "list_of_lang = [\"Android\", \"AngularJS\", \"C\", \"C#\", \"Cloud (AWS, GAE, Azure, etc.)\", \n",
    "                \"Hadoop\", \"Java\", \"JavaScript\", \"Node.js\", \"Redis\", \"Ruby\", \"Spark\",\n",
    "                \"SQL\", \"LAMP\", \"MongoDB\", \"Objective-C\", \"PHP\", \"Python\", \"SQL Server\"\n",
    "                \"Windows Phone\", \"ios\", \"Matlab\", \"Visual Basic\", \"Go\", \"Wordpress\", \n",
    "                \"Perl\", \"PHP\", \"R\", \"Ruby\", \"WordPress\", \"ReactJS\", \"Salesforce\", \"Swift\"\n",
    "                \"Redis\", \"Windows Phone\", \"Hadoop\", \"Cassandra\", \"CoffeeScript\"\n",
    "                \"Haskell\",\"Rust\", \"Redis\", \"F#\", \"Scala\", \"ios\",\n",
    "                \"Cordova\", \"SharePoint\"]"
   ]
  },
  {
   "cell_type": "code",
   "execution_count": 99,
   "id": "76cb2756",
   "metadata": {},
   "outputs": [],
   "source": [
    "def lang_count(df, col1, col2, str_list):\n",
    "    '''\n",
    "    INPUT:\n",
    "    df - the pandas dataframe \n",
    "    col_1 - column name we want to look through\n",
    "    col_2 - column we want to count values from\n",
    "    str_list - a list where we look in each row\n",
    "    \n",
    "    OUTPUT:\n",
    "    new_df - the dataframe that show up the counting\n",
    "    '''\n",
    "    new_df = defaultdict(int)\n",
    "    for lang in str_list:\n",
    "        for idx in range(df.shape[0]):\n",
    "            if lang in df[col1][idx]:\n",
    "                new_df[lang] += int(df[col2][idx])   \n",
    "    new_df = pd.DataFrame(pd.Series(new_df)).reset_index()\n",
    "    new_df.columns = [col1, col2]\n",
    "    new_df.sort_values('count', ascending=False, inplace=True)\n",
    "    return new_df"
   ]
  },
  {
   "cell_type": "code",
   "execution_count": 57,
   "id": "05e82f31",
   "metadata": {},
   "outputs": [],
   "source": [
    "#The results:\n",
    "lang_2016_df = lang_count(work_lang_2016, 'Language', 'count', list_of_lang)\n",
    "lang_2016_df.set_index('Language', inplace=True)"
   ]
  },
  {
   "cell_type": "code",
   "execution_count": 213,
   "id": "f1af3b44",
   "metadata": {},
   "outputs": [
    {
     "data": {
      "image/png": "[encoded data removed]",
      "text/plain": [
       "<Figure size 432x288 with 1 Axes>"
      ]
     },
     "metadata": {
      "needs_background": "light"
     },
     "output_type": "display_data"
    }
   ],
   "source": [
    "## results with the percent\n",
    "lang_2016_df['perc'] = lang_2016_df['count']/np.sum(lang_2016_df['count'])\n",
    "## plot bar chart\n",
    "(lang_2016_df['perc']).plot(kind=\"bar\")\n",
    "title= 'Worked Languages: 2016'\n",
    "plt.title(title)\n",
    "plt.show()"
   ]
  },
  {
   "cell_type": "markdown",
   "id": "f5a56026",
   "metadata": {},
   "source": [
    "#### The top 5 popular worked languages in 2016:\n",
    "#### 1 - Java;  2 - C;  3 - JavaScript;  4 - PHP  5 - SQL."
   ]
  },
  {
   "cell_type": "markdown",
   "id": "9a547b24",
   "metadata": {},
   "source": [
    "###  Programming languages that people want to learn: 2016 "
   ]
  },
  {
   "cell_type": "code",
   "execution_count": 215,
   "id": "f184843d",
   "metadata": {},
   "outputs": [
    {
     "data": {
      "text/html": [
       "<div>\n",
       "<style scoped>\n",
       "    .dataframe tbody tr th:only-of-type {\n",
       "        vertical-align: middle;\n",
       "    }\n",
       "\n",
       "    .dataframe tbody tr th {\n",
       "        vertical-align: top;\n",
       "    }\n",
       "\n",
       "    .dataframe thead th {\n",
       "        text-align: right;\n",
       "    }\n",
       "</style>\n",
       "<table border=\"1\" class=\"dataframe\">\n",
       "  <thead>\n",
       "    <tr style=\"text-align: right;\">\n",
       "      <th></th>\n",
       "      <th>index</th>\n",
       "      <th>tech_want</th>\n",
       "    </tr>\n",
       "  </thead>\n",
       "  <tbody>\n",
       "    <tr>\n",
       "      <th>0</th>\n",
       "      <td>C#</td>\n",
       "      <td>538</td>\n",
       "    </tr>\n",
       "    <tr>\n",
       "      <th>1</th>\n",
       "      <td>Python</td>\n",
       "      <td>474</td>\n",
       "    </tr>\n",
       "    <tr>\n",
       "      <th>2</th>\n",
       "      <td>Java</td>\n",
       "      <td>411</td>\n",
       "    </tr>\n",
       "    <tr>\n",
       "      <th>3</th>\n",
       "      <td>C++</td>\n",
       "      <td>405</td>\n",
       "    </tr>\n",
       "    <tr>\n",
       "      <th>4</th>\n",
       "      <td>Android</td>\n",
       "      <td>377</td>\n",
       "    </tr>\n",
       "  </tbody>\n",
       "</table>\n",
       "</div>"
      ],
      "text/plain": [
       "     index  tech_want\n",
       "0       C#        538\n",
       "1   Python        474\n",
       "2     Java        411\n",
       "3      C++        405\n",
       "4  Android        377"
      ]
     },
     "execution_count": 215,
     "metadata": {},
     "output_type": "execute_result"
    }
   ],
   "source": [
    "fut_lang_16=(df_2016.iloc[:,17]).dropna()\n",
    "want_lang_2016 = fut_lang_16.value_counts().reset_index()\n",
    "want_lang_2016.head()"
   ]
  },
  {
   "cell_type": "code",
   "execution_count": 216,
   "id": "410461dc",
   "metadata": {},
   "outputs": [
    {
     "data": {
      "text/html": [
       "<div>\n",
       "<style scoped>\n",
       "    .dataframe tbody tr th:only-of-type {\n",
       "        vertical-align: middle;\n",
       "    }\n",
       "\n",
       "    .dataframe tbody tr th {\n",
       "        vertical-align: top;\n",
       "    }\n",
       "\n",
       "    .dataframe thead th {\n",
       "        text-align: right;\n",
       "    }\n",
       "</style>\n",
       "<table border=\"1\" class=\"dataframe\">\n",
       "  <thead>\n",
       "    <tr style=\"text-align: right;\">\n",
       "      <th></th>\n",
       "      <th>Language</th>\n",
       "      <th>count</th>\n",
       "    </tr>\n",
       "  </thead>\n",
       "  <tbody>\n",
       "    <tr>\n",
       "      <th>0</th>\n",
       "      <td>C#</td>\n",
       "      <td>538</td>\n",
       "    </tr>\n",
       "    <tr>\n",
       "      <th>1</th>\n",
       "      <td>Python</td>\n",
       "      <td>474</td>\n",
       "    </tr>\n",
       "    <tr>\n",
       "      <th>2</th>\n",
       "      <td>Java</td>\n",
       "      <td>411</td>\n",
       "    </tr>\n",
       "    <tr>\n",
       "      <th>3</th>\n",
       "      <td>C++</td>\n",
       "      <td>405</td>\n",
       "    </tr>\n",
       "    <tr>\n",
       "      <th>4</th>\n",
       "      <td>Android</td>\n",
       "      <td>377</td>\n",
       "    </tr>\n",
       "  </tbody>\n",
       "</table>\n",
       "</div>"
      ],
      "text/plain": [
       "  Language  count\n",
       "0       C#    538\n",
       "1   Python    474\n",
       "2     Java    411\n",
       "3      C++    405\n",
       "4  Android    377"
      ]
     },
     "execution_count": 216,
     "metadata": {},
     "output_type": "execute_result"
    }
   ],
   "source": [
    "want_lang_2016.rename(columns={'index': 'Language', 'tech_want': 'count'}, inplace=True)\n",
    "want_lang_2016.head()"
   ]
  },
  {
   "cell_type": "code",
   "execution_count": 217,
   "id": "99533471",
   "metadata": {},
   "outputs": [],
   "source": [
    "#The results:\n",
    "fut_lang_16_df = lang_count(want_lang_2016, 'Language', 'count', list_of_lang)\n",
    "fut_lang_16_df.set_index('Language', inplace=True)"
   ]
  },
  {
   "cell_type": "code",
   "execution_count": 218,
   "id": "70cab5f0",
   "metadata": {},
   "outputs": [
    {
     "data": {
      "image/png": "[encoded data removed]",
      "text/plain": [
       "<Figure size 432x288 with 1 Axes>"
      ]
     },
     "metadata": {
      "needs_background": "light"
     },
     "output_type": "display_data"
    }
   ],
   "source": [
    "# # results with the percent\n",
    "fut_lang_16_df['perc'] = fut_lang_16_df['count']/np.sum(fut_lang_16_df['count'])\n",
    "## plot bar chart\n",
    "(fut_lang_16_df['perc']).plot(kind=\"bar\")\n",
    "title= 'Wanted Languages: 2016'\n",
    "plt.title(title)\n",
    "plt.show()"
   ]
  },
  {
   "cell_type": "markdown",
   "id": "6ac2da7b",
   "metadata": {},
   "source": [
    "#### The top 5 popular wanted languages in 2016:\n",
    "#### 1 - C;   2 - Java ;  3 - R;  4 - JavaScript;  5 - Python.\n"
   ]
  },
  {
   "cell_type": "markdown",
   "id": "0d9609b0",
   "metadata": {},
   "source": [
    "\n",
    "### Popular Languages: 2017 "
   ]
  },
  {
   "cell_type": "markdown",
   "id": "31b591e9",
   "metadata": {},
   "source": [
    "\n",
    "####  Have Worked Languages "
   ]
  },
  {
   "cell_type": "code",
   "execution_count": 221,
   "id": "a9e2f8b6",
   "metadata": {},
   "outputs": [
    {
     "data": {
      "text/plain": [
       "'Which of the following languages have you done extensive development work in over the past year, and which do you want to work in over the next year?'"
      ]
     },
     "execution_count": 221,
     "metadata": {},
     "output_type": "execute_result"
    }
   ],
   "source": [
    "read_question_2017('HaveWorkedLanguage')"
   ]
  },
  {
   "cell_type": "code",
   "execution_count": 10,
   "id": "18f5107d",
   "metadata": {
    "scrolled": true
   },
   "outputs": [
    {
     "data": {
      "text/html": [
       "<div>\n",
       "<style scoped>\n",
       "    .dataframe tbody tr th:only-of-type {\n",
       "        vertical-align: middle;\n",
       "    }\n",
       "\n",
       "    .dataframe tbody tr th {\n",
       "        vertical-align: top;\n",
       "    }\n",
       "\n",
       "    .dataframe thead th {\n",
       "        text-align: right;\n",
       "    }\n",
       "</style>\n",
       "<table border=\"1\" class=\"dataframe\">\n",
       "  <thead>\n",
       "    <tr style=\"text-align: right;\">\n",
       "      <th></th>\n",
       "      <th>index</th>\n",
       "      <th>HaveWorkedLanguage</th>\n",
       "    </tr>\n",
       "  </thead>\n",
       "  <tbody>\n",
       "    <tr>\n",
       "      <th>0</th>\n",
       "      <td>C#; JavaScript; SQL</td>\n",
       "      <td>1276</td>\n",
       "    </tr>\n",
       "    <tr>\n",
       "      <th>1</th>\n",
       "      <td>JavaScript; PHP; SQL</td>\n",
       "      <td>1143</td>\n",
       "    </tr>\n",
       "    <tr>\n",
       "      <th>2</th>\n",
       "      <td>Java</td>\n",
       "      <td>913</td>\n",
       "    </tr>\n",
       "    <tr>\n",
       "      <th>3</th>\n",
       "      <td>JavaScript</td>\n",
       "      <td>807</td>\n",
       "    </tr>\n",
       "    <tr>\n",
       "      <th>4</th>\n",
       "      <td>JavaScript; PHP</td>\n",
       "      <td>662</td>\n",
       "    </tr>\n",
       "  </tbody>\n",
       "</table>\n",
       "</div>"
      ],
      "text/plain": [
       "                  index  HaveWorkedLanguage\n",
       "0   C#; JavaScript; SQL                1276\n",
       "1  JavaScript; PHP; SQL                1143\n",
       "2                  Java                 913\n",
       "3            JavaScript                 807\n",
       "4       JavaScript; PHP                 662"
      ]
     },
     "execution_count": 10,
     "metadata": {},
     "output_type": "execute_result"
    }
   ],
   "source": [
    "#let's see all Have worked languages:\n",
    "work_lang_2017 = df_2017['HaveWorkedLanguage'].value_counts().reset_index()\n",
    "work_lang_2017.head()"
   ]
  },
  {
   "cell_type": "code",
   "execution_count": 11,
   "id": "776419fa",
   "metadata": {},
   "outputs": [
    {
     "data": {
      "text/html": [
       "<div>\n",
       "<style scoped>\n",
       "    .dataframe tbody tr th:only-of-type {\n",
       "        vertical-align: middle;\n",
       "    }\n",
       "\n",
       "    .dataframe tbody tr th {\n",
       "        vertical-align: top;\n",
       "    }\n",
       "\n",
       "    .dataframe thead th {\n",
       "        text-align: right;\n",
       "    }\n",
       "</style>\n",
       "<table border=\"1\" class=\"dataframe\">\n",
       "  <thead>\n",
       "    <tr style=\"text-align: right;\">\n",
       "      <th></th>\n",
       "      <th>Language</th>\n",
       "      <th>count</th>\n",
       "    </tr>\n",
       "  </thead>\n",
       "  <tbody>\n",
       "    <tr>\n",
       "      <th>0</th>\n",
       "      <td>C#; JavaScript; SQL</td>\n",
       "      <td>1276</td>\n",
       "    </tr>\n",
       "    <tr>\n",
       "      <th>1</th>\n",
       "      <td>JavaScript; PHP; SQL</td>\n",
       "      <td>1143</td>\n",
       "    </tr>\n",
       "    <tr>\n",
       "      <th>2</th>\n",
       "      <td>Java</td>\n",
       "      <td>913</td>\n",
       "    </tr>\n",
       "    <tr>\n",
       "      <th>3</th>\n",
       "      <td>JavaScript</td>\n",
       "      <td>807</td>\n",
       "    </tr>\n",
       "    <tr>\n",
       "      <th>4</th>\n",
       "      <td>JavaScript; PHP</td>\n",
       "      <td>662</td>\n",
       "    </tr>\n",
       "  </tbody>\n",
       "</table>\n",
       "</div>"
      ],
      "text/plain": [
       "               Language  count\n",
       "0   C#; JavaScript; SQL   1276\n",
       "1  JavaScript; PHP; SQL   1143\n",
       "2                  Java    913\n",
       "3            JavaScript    807\n",
       "4       JavaScript; PHP    662"
      ]
     },
     "execution_count": 11,
     "metadata": {},
     "output_type": "execute_result"
    }
   ],
   "source": [
    "#But we don´t want it to be grouped by participant responses, so let's clean:\n",
    "work_lang_2017.rename(columns={'index': 'Language', 'HaveWorkedLanguage': 'count'}, inplace=True)\n",
    "work_lang_2017.head()"
   ]
  },
  {
   "cell_type": "code",
   "execution_count": 12,
   "id": "0dacdf77",
   "metadata": {},
   "outputs": [],
   "source": [
    "#list of all the possible answers - 2017\n",
    "list_of_lang = [\"Assembly\", \"C\", \"C++\",\"C#\" \"Clojure\",\"CoffeScript\", \"Common Lisp\",\"Dart\",\n",
    "                \"Elixir\",\"Erlang\",\"Hack\",\"F#\", \"Go\",\"Groovy\",\"Haskell\",\"Java\", \"JavaScript\",\n",
    "                \"Julia\",\"Lua\",\"Matlab\",\"Objective-C\",\"Perl\",\"Python\", \"R\",\"Ruby\",\"Rust\",\n",
    "                \"Scala\",\"Smaltalk\",\"SQL\",\"Swift\",\"TypeScript\",\"VBA\",\"VB.NET\",\"Visual Basic 6\"]"
   ]
  },
  {
   "cell_type": "code",
   "execution_count": 13,
   "id": "7a334dd1",
   "metadata": {},
   "outputs": [],
   "source": [
    "#The results:\n",
    "lang_2017_df = lang_count(work_lang_2017, 'Language', 'count', list_of_lang)\n",
    "lang_2017_df.set_index('Language', inplace=True)"
   ]
  },
  {
   "cell_type": "code",
   "execution_count": 226,
   "id": "0b265dce",
   "metadata": {
    "scrolled": true
   },
   "outputs": [
    {
     "data": {
      "image/png": "[encoded data removed]",
      "text/plain": [
       "<Figure size 432x288 with 1 Axes>"
      ]
     },
     "metadata": {
      "needs_background": "light"
     },
     "output_type": "display_data"
    }
   ],
   "source": [
    "## results with the percent\n",
    "lang_2017_df['perc'] = lang_2017_df['count']/np.sum(lang_2017_df['count'])\n",
    "## plot bar chart\n",
    "(lang_2017_df['perc']).plot(kind=\"bar\")\n",
    "title= 'Worked Languages: 2017'\n",
    "plt.title(title)\n",
    "plt.show()"
   ]
  },
  {
   "cell_type": "markdown",
   "id": "4e969ced",
   "metadata": {},
   "source": [
    "#### The top 5 popular worked languages in 2017:\n",
    "#### 1 - Java;  2 - JavaScript;  3 - C;  4 - SQL;  5 - Python.\n"
   ]
  },
  {
   "cell_type": "markdown",
   "id": "aeee51f7",
   "metadata": {},
   "source": [
    "###  Programming languages that people want to learn: 2017 "
   ]
  },
  {
   "cell_type": "code",
   "execution_count": 227,
   "id": "8bc948a4",
   "metadata": {},
   "outputs": [
    {
     "data": {
      "text/html": [
       "<div>\n",
       "<style scoped>\n",
       "    .dataframe tbody tr th:only-of-type {\n",
       "        vertical-align: middle;\n",
       "    }\n",
       "\n",
       "    .dataframe tbody tr th {\n",
       "        vertical-align: top;\n",
       "    }\n",
       "\n",
       "    .dataframe thead th {\n",
       "        text-align: right;\n",
       "    }\n",
       "</style>\n",
       "<table border=\"1\" class=\"dataframe\">\n",
       "  <thead>\n",
       "    <tr style=\"text-align: right;\">\n",
       "      <th></th>\n",
       "      <th>index</th>\n",
       "      <th>WantWorkLanguage</th>\n",
       "    </tr>\n",
       "  </thead>\n",
       "  <tbody>\n",
       "    <tr>\n",
       "      <th>0</th>\n",
       "      <td>JavaScript</td>\n",
       "      <td>642</td>\n",
       "    </tr>\n",
       "    <tr>\n",
       "      <th>1</th>\n",
       "      <td>Python</td>\n",
       "      <td>556</td>\n",
       "    </tr>\n",
       "    <tr>\n",
       "      <th>2</th>\n",
       "      <td>Java</td>\n",
       "      <td>544</td>\n",
       "    </tr>\n",
       "    <tr>\n",
       "      <th>3</th>\n",
       "      <td>C#</td>\n",
       "      <td>475</td>\n",
       "    </tr>\n",
       "    <tr>\n",
       "      <th>4</th>\n",
       "      <td>C#; JavaScript; SQL</td>\n",
       "      <td>444</td>\n",
       "    </tr>\n",
       "  </tbody>\n",
       "</table>\n",
       "</div>"
      ],
      "text/plain": [
       "                 index  WantWorkLanguage\n",
       "0           JavaScript               642\n",
       "1               Python               556\n",
       "2                 Java               544\n",
       "3                   C#               475\n",
       "4  C#; JavaScript; SQL               444"
      ]
     },
     "execution_count": 227,
     "metadata": {},
     "output_type": "execute_result"
    }
   ],
   "source": [
    "want_lang_2017 = df_2017['WantWorkLanguage'].value_counts().reset_index()\n",
    "want_lang_2017.head()"
   ]
  },
  {
   "cell_type": "code",
   "execution_count": 228,
   "id": "1cfbe34e",
   "metadata": {
    "scrolled": false
   },
   "outputs": [
    {
     "data": {
      "text/html": [
       "<div>\n",
       "<style scoped>\n",
       "    .dataframe tbody tr th:only-of-type {\n",
       "        vertical-align: middle;\n",
       "    }\n",
       "\n",
       "    .dataframe tbody tr th {\n",
       "        vertical-align: top;\n",
       "    }\n",
       "\n",
       "    .dataframe thead th {\n",
       "        text-align: right;\n",
       "    }\n",
       "</style>\n",
       "<table border=\"1\" class=\"dataframe\">\n",
       "  <thead>\n",
       "    <tr style=\"text-align: right;\">\n",
       "      <th></th>\n",
       "      <th>Language</th>\n",
       "      <th>count</th>\n",
       "    </tr>\n",
       "  </thead>\n",
       "  <tbody>\n",
       "    <tr>\n",
       "      <th>0</th>\n",
       "      <td>JavaScript</td>\n",
       "      <td>642</td>\n",
       "    </tr>\n",
       "    <tr>\n",
       "      <th>1</th>\n",
       "      <td>Python</td>\n",
       "      <td>556</td>\n",
       "    </tr>\n",
       "    <tr>\n",
       "      <th>2</th>\n",
       "      <td>Java</td>\n",
       "      <td>544</td>\n",
       "    </tr>\n",
       "    <tr>\n",
       "      <th>3</th>\n",
       "      <td>C#</td>\n",
       "      <td>475</td>\n",
       "    </tr>\n",
       "    <tr>\n",
       "      <th>4</th>\n",
       "      <td>C#; JavaScript; SQL</td>\n",
       "      <td>444</td>\n",
       "    </tr>\n",
       "  </tbody>\n",
       "</table>\n",
       "</div>"
      ],
      "text/plain": [
       "              Language  count\n",
       "0           JavaScript    642\n",
       "1               Python    556\n",
       "2                 Java    544\n",
       "3                   C#    475\n",
       "4  C#; JavaScript; SQL    444"
      ]
     },
     "execution_count": 228,
     "metadata": {},
     "output_type": "execute_result"
    }
   ],
   "source": [
    "#But we don´t want it to be grouped by participant responses, so let's clean:\n",
    "want_lang_2017.rename(columns={'index': 'Language', 'WantWorkLanguage': 'count'}, inplace=True)\n",
    "want_lang_2017.head()"
   ]
  },
  {
   "cell_type": "code",
   "execution_count": 229,
   "id": "3970b4d1",
   "metadata": {},
   "outputs": [],
   "source": [
    "#The results:\n",
    "fut_lang_17_df = lang_count(want_lang_2017, 'Language', 'count', list_of_lang)\n",
    "fut_lang_17_df.set_index('Language', inplace=True)"
   ]
  },
  {
   "cell_type": "code",
   "execution_count": 230,
   "id": "3d2e5b1d",
   "metadata": {},
   "outputs": [
    {
     "data": {
      "image/png": "[encoded data removed]",
      "text/plain": [
       "<Figure size 432x288 with 1 Axes>"
      ]
     },
     "metadata": {
      "needs_background": "light"
     },
     "output_type": "display_data"
    }
   ],
   "source": [
    "# # results with the percent\n",
    "fut_lang_17_df['perc'] = fut_lang_17_df['count']/np.sum(fut_lang_17_df['count'])\n",
    "## plot bar chart\n",
    "(fut_lang_17_df['perc']).plot(kind=\"bar\")\n",
    "title= 'Wanted Languages: 2017'\n",
    "plt.title(title)\n",
    "plt.show()"
   ]
  },
  {
   "cell_type": "markdown",
   "id": "aecf2d7a",
   "metadata": {},
   "source": [
    "#### The top 5 popular worked languages in 2017:\n",
    "#### 1 - Java;  2 - C;  3 -JavaScript;  4 - Python;  5 - SQL.\n"
   ]
  },
  {
   "cell_type": "markdown",
   "id": "65c2da13",
   "metadata": {},
   "source": [
    "### Popular Languages  2018:"
   ]
  },
  {
   "cell_type": "markdown",
   "id": "8285c439",
   "metadata": {},
   "source": [
    "#### Have Worked Languages"
   ]
  },
  {
   "cell_type": "code",
   "execution_count": 26,
   "id": "1c7a825f",
   "metadata": {},
   "outputs": [
    {
     "data": {
      "text/plain": [
       "'Which of the following programming, scripting, and markup languages have you done extensive development work in over the past year, and which do you want to work in over the next year?  (If you both worked with the language and want to continue to do so, please check both boxes in that row.)'"
      ]
     },
     "execution_count": 26,
     "metadata": {},
     "output_type": "execute_result"
    }
   ],
   "source": [
    "read_question('LanguageWorkedWith')"
   ]
  },
  {
   "cell_type": "code",
   "execution_count": 108,
   "id": "f93f9f91",
   "metadata": {},
   "outputs": [],
   "source": [
    "#list of all the possible answers - 2018\n",
    "list_of_lang = [\"Assembly\", \"Bash/Shell\",\"C\", \"C++\",\"C#\",\"Clojure\",\"Cobol\",\"CoffeScript\", \"Common Lisp\",\"Dart\",\n",
    "                \"CSS\",\"Delphi/Object Pascal\",\"Elixir\",\"Erlang\",\"Hack\",\"F#\", \"Go\",\"Groovy\",\"Haskell\",\"HTML\",\"Java\", \n",
    "                \"JavaScript\",\"Julia\",\"Kotlin\",\"Lua\",\"Matlab\",\"Objective-C\",\"Perl\",\"Python\", \"R\",\"Ruby\",\"Rust\",\n",
    "                \"Scala\",\"Smaltalk\",\"SQL\",\"Swift\",\"TypeScript\",\"VBA\",\"VB.NET\",\"Visual Basic 6\"]"
   ]
  },
  {
   "cell_type": "code",
   "execution_count": 86,
   "id": "c73e9004",
   "metadata": {},
   "outputs": [
    {
     "data": {
      "text/html": [
       "<div>\n",
       "<style scoped>\n",
       "    .dataframe tbody tr th:only-of-type {\n",
       "        vertical-align: middle;\n",
       "    }\n",
       "\n",
       "    .dataframe tbody tr th {\n",
       "        vertical-align: top;\n",
       "    }\n",
       "\n",
       "    .dataframe thead th {\n",
       "        text-align: right;\n",
       "    }\n",
       "</style>\n",
       "<table border=\"1\" class=\"dataframe\">\n",
       "  <thead>\n",
       "    <tr style=\"text-align: right;\">\n",
       "      <th></th>\n",
       "      <th>index</th>\n",
       "      <th>LanguageWorkedWith</th>\n",
       "    </tr>\n",
       "  </thead>\n",
       "  <tbody>\n",
       "    <tr>\n",
       "      <th>0</th>\n",
       "      <td>C#;JavaScript;SQL;HTML;CSS</td>\n",
       "      <td>1347</td>\n",
       "    </tr>\n",
       "    <tr>\n",
       "      <th>1</th>\n",
       "      <td>JavaScript;PHP;SQL;HTML;CSS</td>\n",
       "      <td>1235</td>\n",
       "    </tr>\n",
       "    <tr>\n",
       "      <th>2</th>\n",
       "      <td>Java</td>\n",
       "      <td>1030</td>\n",
       "    </tr>\n",
       "    <tr>\n",
       "      <th>3</th>\n",
       "      <td>JavaScript;HTML;CSS</td>\n",
       "      <td>881</td>\n",
       "    </tr>\n",
       "    <tr>\n",
       "      <th>4</th>\n",
       "      <td>C#;JavaScript;SQL;TypeScript;HTML;CSS</td>\n",
       "      <td>828</td>\n",
       "    </tr>\n",
       "  </tbody>\n",
       "</table>\n",
       "</div>"
      ],
      "text/plain": [
       "                                   index  LanguageWorkedWith\n",
       "0             C#;JavaScript;SQL;HTML;CSS                1347\n",
       "1            JavaScript;PHP;SQL;HTML;CSS                1235\n",
       "2                                   Java                1030\n",
       "3                    JavaScript;HTML;CSS                 881\n",
       "4  C#;JavaScript;SQL;TypeScript;HTML;CSS                 828"
      ]
     },
     "execution_count": 86,
     "metadata": {},
     "output_type": "execute_result"
    }
   ],
   "source": [
    "#let's see all Have worked languages:\n",
    "work_lang_2018 = df_2018['LanguageWorkedWith'].value_counts().reset_index()\n",
    "work_lang_2018.head()"
   ]
  },
  {
   "cell_type": "code",
   "execution_count": 87,
   "id": "68c6d6cc",
   "metadata": {},
   "outputs": [
    {
     "data": {
      "text/html": [
       "<div>\n",
       "<style scoped>\n",
       "    .dataframe tbody tr th:only-of-type {\n",
       "        vertical-align: middle;\n",
       "    }\n",
       "\n",
       "    .dataframe tbody tr th {\n",
       "        vertical-align: top;\n",
       "    }\n",
       "\n",
       "    .dataframe thead th {\n",
       "        text-align: right;\n",
       "    }\n",
       "</style>\n",
       "<table border=\"1\" class=\"dataframe\">\n",
       "  <thead>\n",
       "    <tr style=\"text-align: right;\">\n",
       "      <th></th>\n",
       "      <th>Language</th>\n",
       "      <th>count</th>\n",
       "    </tr>\n",
       "  </thead>\n",
       "  <tbody>\n",
       "    <tr>\n",
       "      <th>0</th>\n",
       "      <td>C#;JavaScript;SQL;HTML;CSS</td>\n",
       "      <td>1347</td>\n",
       "    </tr>\n",
       "    <tr>\n",
       "      <th>1</th>\n",
       "      <td>JavaScript;PHP;SQL;HTML;CSS</td>\n",
       "      <td>1235</td>\n",
       "    </tr>\n",
       "    <tr>\n",
       "      <th>2</th>\n",
       "      <td>Java</td>\n",
       "      <td>1030</td>\n",
       "    </tr>\n",
       "    <tr>\n",
       "      <th>3</th>\n",
       "      <td>JavaScript;HTML;CSS</td>\n",
       "      <td>881</td>\n",
       "    </tr>\n",
       "    <tr>\n",
       "      <th>4</th>\n",
       "      <td>C#;JavaScript;SQL;TypeScript;HTML;CSS</td>\n",
       "      <td>828</td>\n",
       "    </tr>\n",
       "  </tbody>\n",
       "</table>\n",
       "</div>"
      ],
      "text/plain": [
       "                                Language  count\n",
       "0             C#;JavaScript;SQL;HTML;CSS   1347\n",
       "1            JavaScript;PHP;SQL;HTML;CSS   1235\n",
       "2                                   Java   1030\n",
       "3                    JavaScript;HTML;CSS    881\n",
       "4  C#;JavaScript;SQL;TypeScript;HTML;CSS    828"
      ]
     },
     "execution_count": 87,
     "metadata": {},
     "output_type": "execute_result"
    }
   ],
   "source": [
    "#But we don´t want it to be grouped by participant responses, so let's clean:\n",
    "work_lang_2018.rename(columns={'index': 'Language', 'LanguageWorkedWith': 'count'}, inplace=True)\n",
    "work_lang_2018.head()"
   ]
  },
  {
   "cell_type": "code",
   "execution_count": 88,
   "id": "61e653eb",
   "metadata": {},
   "outputs": [],
   "source": [
    "#The results:\n",
    "lang_2018_df = lang_count(work_lang_2018, 'Language', 'count', list_of_lang)\n",
    "lang_2018_df.set_index('Language', inplace=True)"
   ]
  },
  {
   "cell_type": "code",
   "execution_count": 235,
   "id": "7b530388",
   "metadata": {},
   "outputs": [
    {
     "data": {
      "image/png": "[encoded data removed]",
      "text/plain": [
       "<Figure size 432x288 with 1 Axes>"
      ]
     },
     "metadata": {
      "needs_background": "light"
     },
     "output_type": "display_data"
    }
   ],
   "source": [
    "## results with the percent\n",
    "lang_2018_df['perc'] = lang_2018_df['count']/np.sum(lang_2018_df['count'])\n",
    "## plot bar chart\n",
    "(lang_2018_df['perc']).plot(kind=\"bar\")\n",
    "title= 'Worked Languages: 2018'\n",
    "plt.title(title)\n",
    "plt.show()"
   ]
  },
  {
   "cell_type": "markdown",
   "id": "4f8079c0",
   "metadata": {},
   "source": [
    "#### The top 5 popular worked languages in 2018:\n",
    "#### 1 - C;  2 -Java;  3 - JavaScript;  4 - HTML;  5 -CSS.\n"
   ]
  },
  {
   "cell_type": "markdown",
   "id": "d3117b69",
   "metadata": {},
   "source": [
    "### Programming languages that people want to learn: 2018"
   ]
  },
  {
   "cell_type": "code",
   "execution_count": 79,
   "id": "ed5fbf2a",
   "metadata": {},
   "outputs": [
    {
     "data": {
      "text/html": [
       "<div>\n",
       "<style scoped>\n",
       "    .dataframe tbody tr th:only-of-type {\n",
       "        vertical-align: middle;\n",
       "    }\n",
       "\n",
       "    .dataframe tbody tr th {\n",
       "        vertical-align: top;\n",
       "    }\n",
       "\n",
       "    .dataframe thead th {\n",
       "        text-align: right;\n",
       "    }\n",
       "</style>\n",
       "<table border=\"1\" class=\"dataframe\">\n",
       "  <thead>\n",
       "    <tr style=\"text-align: right;\">\n",
       "      <th></th>\n",
       "      <th>index</th>\n",
       "      <th>LanguageDesireNextYear</th>\n",
       "    </tr>\n",
       "  </thead>\n",
       "  <tbody>\n",
       "    <tr>\n",
       "      <th>0</th>\n",
       "      <td>Python</td>\n",
       "      <td>908</td>\n",
       "    </tr>\n",
       "    <tr>\n",
       "      <th>1</th>\n",
       "      <td>Java</td>\n",
       "      <td>608</td>\n",
       "    </tr>\n",
       "    <tr>\n",
       "      <th>2</th>\n",
       "      <td>C#;JavaScript;SQL;TypeScript;HTML;CSS</td>\n",
       "      <td>605</td>\n",
       "    </tr>\n",
       "    <tr>\n",
       "      <th>3</th>\n",
       "      <td>C#</td>\n",
       "      <td>594</td>\n",
       "    </tr>\n",
       "    <tr>\n",
       "      <th>4</th>\n",
       "      <td>JavaScript;HTML;CSS</td>\n",
       "      <td>550</td>\n",
       "    </tr>\n",
       "  </tbody>\n",
       "</table>\n",
       "</div>"
      ],
      "text/plain": [
       "                                   index  LanguageDesireNextYear\n",
       "0                                 Python                     908\n",
       "1                                   Java                     608\n",
       "2  C#;JavaScript;SQL;TypeScript;HTML;CSS                     605\n",
       "3                                     C#                     594\n",
       "4                    JavaScript;HTML;CSS                     550"
      ]
     },
     "execution_count": 79,
     "metadata": {},
     "output_type": "execute_result"
    }
   ],
   "source": [
    "want_lang_2018 = df_2018['LanguageDesireNextYear'].value_counts().reset_index()\n",
    "want_lang_2018.head()"
   ]
  },
  {
   "cell_type": "code",
   "execution_count": 82,
   "id": "a28254bd",
   "metadata": {},
   "outputs": [
    {
     "data": {
      "text/html": [
       "<div>\n",
       "<style scoped>\n",
       "    .dataframe tbody tr th:only-of-type {\n",
       "        vertical-align: middle;\n",
       "    }\n",
       "\n",
       "    .dataframe tbody tr th {\n",
       "        vertical-align: top;\n",
       "    }\n",
       "\n",
       "    .dataframe thead th {\n",
       "        text-align: right;\n",
       "    }\n",
       "</style>\n",
       "<table border=\"1\" class=\"dataframe\">\n",
       "  <thead>\n",
       "    <tr style=\"text-align: right;\">\n",
       "      <th></th>\n",
       "      <th>Language</th>\n",
       "      <th>count</th>\n",
       "    </tr>\n",
       "  </thead>\n",
       "  <tbody>\n",
       "    <tr>\n",
       "      <th>0</th>\n",
       "      <td>Python</td>\n",
       "      <td>908</td>\n",
       "    </tr>\n",
       "    <tr>\n",
       "      <th>1</th>\n",
       "      <td>Java</td>\n",
       "      <td>608</td>\n",
       "    </tr>\n",
       "    <tr>\n",
       "      <th>2</th>\n",
       "      <td>C#;JavaScript;SQL;TypeScript;HTML;CSS</td>\n",
       "      <td>605</td>\n",
       "    </tr>\n",
       "    <tr>\n",
       "      <th>3</th>\n",
       "      <td>C#</td>\n",
       "      <td>594</td>\n",
       "    </tr>\n",
       "    <tr>\n",
       "      <th>4</th>\n",
       "      <td>JavaScript;HTML;CSS</td>\n",
       "      <td>550</td>\n",
       "    </tr>\n",
       "  </tbody>\n",
       "</table>\n",
       "</div>"
      ],
      "text/plain": [
       "                                Language  count\n",
       "0                                 Python    908\n",
       "1                                   Java    608\n",
       "2  C#;JavaScript;SQL;TypeScript;HTML;CSS    605\n",
       "3                                     C#    594\n",
       "4                    JavaScript;HTML;CSS    550"
      ]
     },
     "execution_count": 82,
     "metadata": {},
     "output_type": "execute_result"
    }
   ],
   "source": [
    "#But we don´t want it to be grouped by participant responses, so let's clean:\n",
    "want_lang_2018.rename(columns={'index': 'Language', 'LanguageDesireNextYear': 'count'}, inplace=True)\n",
    "want_lang_2018.head()"
   ]
  },
  {
   "cell_type": "code",
   "execution_count": 83,
   "id": "d6fba695",
   "metadata": {},
   "outputs": [],
   "source": [
    "#The results:\n",
    "fut_lang_18_df = lang_count(want_lang_2018, 'Language', 'count', list_of_lang)\n",
    "fut_lang_18_df.set_index('Language', inplace=True)"
   ]
  },
  {
   "cell_type": "code",
   "execution_count": 239,
   "id": "9bcce488",
   "metadata": {},
   "outputs": [
    {
     "data": {
      "image/png": "[encoded data removed]",
      "text/plain": [
       "<Figure size 432x288 with 1 Axes>"
      ]
     },
     "metadata": {
      "needs_background": "light"
     },
     "output_type": "display_data"
    }
   ],
   "source": [
    "## results with the percent\n",
    "fut_lang_18_df['perc'] = fut_lang_18_df['count']/np.sum(fut_lang_18_df['count'])\n",
    "## plot bar chart\n",
    "(fut_lang_18_df['perc']).plot(kind=\"bar\")\n",
    "title= 'Wanted Languages: 2018'\n",
    "plt.title(title)\n",
    "plt.show()"
   ]
  },
  {
   "cell_type": "markdown",
   "id": "57de2ac0",
   "metadata": {},
   "source": [
    "#### The top 5 popular wanted languages in 2018:\n",
    "#### 1 - C;  2 -Java;  3 - JavaScript;  4 - Python;  5 - HTML.\n"
   ]
  },
  {
   "cell_type": "markdown",
   "id": "5516e405",
   "metadata": {},
   "source": [
    "\n",
    "### Popular Languages: 2019 "
   ]
  },
  {
   "cell_type": "markdown",
   "id": "b657c8ad",
   "metadata": {},
   "source": [
    "\n",
    "#### Have worked Languages: 2019 "
   ]
  },
  {
   "cell_type": "code",
   "execution_count": 37,
   "id": "77634bd8",
   "metadata": {},
   "outputs": [
    {
     "data": {
      "text/plain": [
       "'Which of the following programming, scripting, and markup languages have you done extensive development work in over the past year, and which do you want to work in over the next year?  (If you both worked with the language and want to continue to do so, please check both boxes in that row.)'"
      ]
     },
     "execution_count": 37,
     "metadata": {},
     "output_type": "execute_result"
    }
   ],
   "source": [
    "read_question('LanguageWorkedWith')"
   ]
  },
  {
   "cell_type": "code",
   "execution_count": 109,
   "id": "577c4be4",
   "metadata": {},
   "outputs": [],
   "source": [
    "list_of_lang = [\"Assembly\", \"Bash/Shell\",\"C\", \"C++\",\"C#\",\"Clojure\",\"Cobol\",\"CoffeScript\", \"Common Lisp\",\"Dart\",\n",
    "                \"CSS\",\"Delphi/Object Pascal\",\"Elixir\",\"Erlang\",\"Hack\",\"F#\", \"Go\",\"Groovy\",\"Haskell\",\"HTML\",\"Java\", \n",
    "                \"JavaScript\",\"Julia\",\"Kotlin\",\"Lua\",\"Matlab\",\"Objective-C\",\"Perl\",\"Python\", \"R\",\"Ruby\",\"Rust\",\n",
    "                \"Scala\",\"Smaltalk\",\"SQL\",\"Swift\",\"TypeScript\",\"VBA\",\"VB.NET\",\"Visual Basic 6\"]"
   ]
  },
  {
   "cell_type": "code",
   "execution_count": 101,
   "id": "d9a2f87b",
   "metadata": {},
   "outputs": [
    {
     "data": {
      "text/html": [
       "<div>\n",
       "<style scoped>\n",
       "    .dataframe tbody tr th:only-of-type {\n",
       "        vertical-align: middle;\n",
       "    }\n",
       "\n",
       "    .dataframe tbody tr th {\n",
       "        vertical-align: top;\n",
       "    }\n",
       "\n",
       "    .dataframe thead th {\n",
       "        text-align: right;\n",
       "    }\n",
       "</style>\n",
       "<table border=\"1\" class=\"dataframe\">\n",
       "  <thead>\n",
       "    <tr style=\"text-align: right;\">\n",
       "      <th></th>\n",
       "      <th>index</th>\n",
       "      <th>LanguageWorkedWith</th>\n",
       "    </tr>\n",
       "  </thead>\n",
       "  <tbody>\n",
       "    <tr>\n",
       "      <th>0</th>\n",
       "      <td>HTML/CSS;JavaScript;PHP;SQL</td>\n",
       "      <td>1483</td>\n",
       "    </tr>\n",
       "    <tr>\n",
       "      <th>1</th>\n",
       "      <td>C#;HTML/CSS;JavaScript;SQL</td>\n",
       "      <td>1414</td>\n",
       "    </tr>\n",
       "    <tr>\n",
       "      <th>2</th>\n",
       "      <td>HTML/CSS;JavaScript</td>\n",
       "      <td>1247</td>\n",
       "    </tr>\n",
       "    <tr>\n",
       "      <th>3</th>\n",
       "      <td>C#;HTML/CSS;JavaScript;SQL;TypeScript</td>\n",
       "      <td>990</td>\n",
       "    </tr>\n",
       "    <tr>\n",
       "      <th>4</th>\n",
       "      <td>Java</td>\n",
       "      <td>934</td>\n",
       "    </tr>\n",
       "  </tbody>\n",
       "</table>\n",
       "</div>"
      ],
      "text/plain": [
       "                                   index  LanguageWorkedWith\n",
       "0            HTML/CSS;JavaScript;PHP;SQL                1483\n",
       "1             C#;HTML/CSS;JavaScript;SQL                1414\n",
       "2                    HTML/CSS;JavaScript                1247\n",
       "3  C#;HTML/CSS;JavaScript;SQL;TypeScript                 990\n",
       "4                                   Java                 934"
      ]
     },
     "execution_count": 101,
     "metadata": {},
     "output_type": "execute_result"
    }
   ],
   "source": [
    "#let's see all Have worked languages:\n",
    "work_lang_2019 = df_2019['LanguageWorkedWith'].value_counts().reset_index()\n",
    "work_lang_2019.head()"
   ]
  },
  {
   "cell_type": "code",
   "execution_count": 103,
   "id": "b89a8722",
   "metadata": {},
   "outputs": [
    {
     "data": {
      "text/html": [
       "<div>\n",
       "<style scoped>\n",
       "    .dataframe tbody tr th:only-of-type {\n",
       "        vertical-align: middle;\n",
       "    }\n",
       "\n",
       "    .dataframe tbody tr th {\n",
       "        vertical-align: top;\n",
       "    }\n",
       "\n",
       "    .dataframe thead th {\n",
       "        text-align: right;\n",
       "    }\n",
       "</style>\n",
       "<table border=\"1\" class=\"dataframe\">\n",
       "  <thead>\n",
       "    <tr style=\"text-align: right;\">\n",
       "      <th></th>\n",
       "      <th>Language</th>\n",
       "      <th>count</th>\n",
       "    </tr>\n",
       "  </thead>\n",
       "  <tbody>\n",
       "    <tr>\n",
       "      <th>0</th>\n",
       "      <td>HTML/CSS;JavaScript;PHP;SQL</td>\n",
       "      <td>1483</td>\n",
       "    </tr>\n",
       "    <tr>\n",
       "      <th>1</th>\n",
       "      <td>C#;HTML/CSS;JavaScript;SQL</td>\n",
       "      <td>1414</td>\n",
       "    </tr>\n",
       "    <tr>\n",
       "      <th>2</th>\n",
       "      <td>HTML/CSS;JavaScript</td>\n",
       "      <td>1247</td>\n",
       "    </tr>\n",
       "    <tr>\n",
       "      <th>3</th>\n",
       "      <td>C#;HTML/CSS;JavaScript;SQL;TypeScript</td>\n",
       "      <td>990</td>\n",
       "    </tr>\n",
       "    <tr>\n",
       "      <th>4</th>\n",
       "      <td>Java</td>\n",
       "      <td>934</td>\n",
       "    </tr>\n",
       "  </tbody>\n",
       "</table>\n",
       "</div>"
      ],
      "text/plain": [
       "                                Language  count\n",
       "0            HTML/CSS;JavaScript;PHP;SQL   1483\n",
       "1             C#;HTML/CSS;JavaScript;SQL   1414\n",
       "2                    HTML/CSS;JavaScript   1247\n",
       "3  C#;HTML/CSS;JavaScript;SQL;TypeScript    990\n",
       "4                                   Java    934"
      ]
     },
     "execution_count": 103,
     "metadata": {},
     "output_type": "execute_result"
    }
   ],
   "source": [
    "#But we don´t want it to be grouped by participant responses, so let's clean:\n",
    "work_lang_2019.rename(columns={'index': 'Language', 'LanguageWorkedWith': 'count'}, inplace=True)\n",
    "work_lang_2019.head()"
   ]
  },
  {
   "cell_type": "code",
   "execution_count": 105,
   "id": "2b601aee",
   "metadata": {},
   "outputs": [],
   "source": [
    "#The results:\n",
    "lang_2019_df = lang_count(work_lang_2019, 'Language', 'count', list_of_lang)\n",
    "lang_2019_df.set_index('Language', inplace=True)"
   ]
  },
  {
   "cell_type": "code",
   "execution_count": 245,
   "id": "c0584483",
   "metadata": {},
   "outputs": [
    {
     "data": {
      "image/png": "[encoded data removed]",
      "text/plain": [
       "<Figure size 432x288 with 1 Axes>"
      ]
     },
     "metadata": {
      "needs_background": "light"
     },
     "output_type": "display_data"
    }
   ],
   "source": [
    "## results with the percent\n",
    "lang_2019_df['perc'] = lang_2019_df['count']/np.sum(lang_2019_df['count'])\n",
    "## plot bar chart\n",
    "(lang_2019_df['perc']).plot(kind=\"bar\")\n",
    "title= 'Worked Languages: 2019'\n",
    "plt.title(title)\n",
    "plt.show()"
   ]
  },
  {
   "cell_type": "markdown",
   "id": "6a101268",
   "metadata": {},
   "source": [
    "#### The top 5 popular worked languages in 2019:\n",
    "#### 1 - C;  2 -Java;  3 - JavaScript;  4 - CSS;  5 - HTML.\n"
   ]
  },
  {
   "cell_type": "markdown",
   "id": "85f5fc67",
   "metadata": {},
   "source": [
    "### Programming languages that people want to learn: 2019 "
   ]
  },
  {
   "cell_type": "code",
   "execution_count": 146,
   "id": "eb569ebc",
   "metadata": {},
   "outputs": [
    {
     "data": {
      "text/html": [
       "<div>\n",
       "<style scoped>\n",
       "    .dataframe tbody tr th:only-of-type {\n",
       "        vertical-align: middle;\n",
       "    }\n",
       "\n",
       "    .dataframe tbody tr th {\n",
       "        vertical-align: top;\n",
       "    }\n",
       "\n",
       "    .dataframe thead th {\n",
       "        text-align: right;\n",
       "    }\n",
       "</style>\n",
       "<table border=\"1\" class=\"dataframe\">\n",
       "  <thead>\n",
       "    <tr style=\"text-align: right;\">\n",
       "      <th></th>\n",
       "      <th>index</th>\n",
       "      <th>LanguageDesireNextYear</th>\n",
       "    </tr>\n",
       "  </thead>\n",
       "  <tbody>\n",
       "    <tr>\n",
       "      <th>0</th>\n",
       "      <td>Python</td>\n",
       "      <td>1236</td>\n",
       "    </tr>\n",
       "    <tr>\n",
       "      <th>1</th>\n",
       "      <td>HTML/CSS;JavaScript</td>\n",
       "      <td>697</td>\n",
       "    </tr>\n",
       "    <tr>\n",
       "      <th>2</th>\n",
       "      <td>HTML/CSS;JavaScript;TypeScript</td>\n",
       "      <td>648</td>\n",
       "    </tr>\n",
       "    <tr>\n",
       "      <th>3</th>\n",
       "      <td>C#</td>\n",
       "      <td>607</td>\n",
       "    </tr>\n",
       "    <tr>\n",
       "      <th>4</th>\n",
       "      <td>Java</td>\n",
       "      <td>584</td>\n",
       "    </tr>\n",
       "  </tbody>\n",
       "</table>\n",
       "</div>"
      ],
      "text/plain": [
       "                            index  LanguageDesireNextYear\n",
       "0                          Python                    1236\n",
       "1             HTML/CSS;JavaScript                     697\n",
       "2  HTML/CSS;JavaScript;TypeScript                     648\n",
       "3                              C#                     607\n",
       "4                            Java                     584"
      ]
     },
     "execution_count": 146,
     "metadata": {},
     "output_type": "execute_result"
    }
   ],
   "source": [
    "want_lang_2019 = df_2019['LanguageDesireNextYear'].value_counts().reset_index()\n",
    "want_lang_2019.head()\n"
   ]
  },
  {
   "cell_type": "code",
   "execution_count": 246,
   "id": "99c447fb",
   "metadata": {},
   "outputs": [
    {
     "data": {
      "text/html": [
       "<div>\n",
       "<style scoped>\n",
       "    .dataframe tbody tr th:only-of-type {\n",
       "        vertical-align: middle;\n",
       "    }\n",
       "\n",
       "    .dataframe tbody tr th {\n",
       "        vertical-align: top;\n",
       "    }\n",
       "\n",
       "    .dataframe thead th {\n",
       "        text-align: right;\n",
       "    }\n",
       "</style>\n",
       "<table border=\"1\" class=\"dataframe\">\n",
       "  <thead>\n",
       "    <tr style=\"text-align: right;\">\n",
       "      <th></th>\n",
       "      <th>Language</th>\n",
       "      <th>count</th>\n",
       "    </tr>\n",
       "  </thead>\n",
       "  <tbody>\n",
       "    <tr>\n",
       "      <th>0</th>\n",
       "      <td>Python</td>\n",
       "      <td>1236</td>\n",
       "    </tr>\n",
       "    <tr>\n",
       "      <th>1</th>\n",
       "      <td>HTML/CSS;JavaScript</td>\n",
       "      <td>697</td>\n",
       "    </tr>\n",
       "    <tr>\n",
       "      <th>2</th>\n",
       "      <td>HTML/CSS;JavaScript;TypeScript</td>\n",
       "      <td>648</td>\n",
       "    </tr>\n",
       "    <tr>\n",
       "      <th>3</th>\n",
       "      <td>C#</td>\n",
       "      <td>607</td>\n",
       "    </tr>\n",
       "    <tr>\n",
       "      <th>4</th>\n",
       "      <td>Java</td>\n",
       "      <td>584</td>\n",
       "    </tr>\n",
       "  </tbody>\n",
       "</table>\n",
       "</div>"
      ],
      "text/plain": [
       "                         Language  count\n",
       "0                          Python   1236\n",
       "1             HTML/CSS;JavaScript    697\n",
       "2  HTML/CSS;JavaScript;TypeScript    648\n",
       "3                              C#    607\n",
       "4                            Java    584"
      ]
     },
     "execution_count": 246,
     "metadata": {},
     "output_type": "execute_result"
    }
   ],
   "source": [
    "#But we don´t want it to be grouped by participant responses, so let's clean:\n",
    "want_lang_2019.rename(columns={'index': 'Language', 'LanguageDesireNextYear': 'count'}, inplace=True)\n",
    "want_lang_2019.head()"
   ]
  },
  {
   "cell_type": "code",
   "execution_count": 248,
   "id": "34e6e155",
   "metadata": {},
   "outputs": [],
   "source": [
    "#The results:\n",
    "fut_lang_19_df = lang_count(want_lang_2019, 'Language', 'count', list_of_lang)\n",
    "fut_lang_19_df.set_index('Language', inplace=True)"
   ]
  },
  {
   "cell_type": "code",
   "execution_count": 249,
   "id": "92b2aa5b",
   "metadata": {},
   "outputs": [
    {
     "data": {
      "image/png": "[encoded data removed]",
      "text/plain": [
       "<Figure size 432x288 with 1 Axes>"
      ]
     },
     "metadata": {
      "needs_background": "light"
     },
     "output_type": "display_data"
    }
   ],
   "source": [
    "## results with the percent\n",
    "fut_lang_19_df['perc'] = fut_lang_19_df['count']/np.sum(fut_lang_19_df['count'])\n",
    "## plot bar chart\n",
    "(fut_lang_19_df['perc']).plot(kind=\"bar\")\n",
    "title= 'Wanted Languages: 2019'\n",
    "plt.title(title)\n",
    "plt.show()"
   ]
  },
  {
   "cell_type": "markdown",
   "id": "fdbdad51",
   "metadata": {},
   "source": [
    "#### The top 5 popular worked languages in 2019:\n",
    "#### 1 - C;  2 -Java;  3 - JavaScript;  4 - Python;  5 - CSS."
   ]
  },
  {
   "cell_type": "markdown",
   "id": "1f02bb72",
   "metadata": {},
   "source": [
    "\n",
    "### Popular Languages: 2020 "
   ]
  },
  {
   "cell_type": "markdown",
   "id": "2ea3f931",
   "metadata": {},
   "source": [
    "\n",
    "#### Have Worked Languages"
   ]
  },
  {
   "cell_type": "code",
   "execution_count": 44,
   "id": "0e6df185",
   "metadata": {},
   "outputs": [
    {
     "data": {
      "text/plain": [
       "'Which programming, scripting, and markup languages have you done extensive development work in over the past year, and which do you want to work in over the next year? (If you both worked with the language and want to continue to do so, please check both boxes in that row.)'"
      ]
     },
     "execution_count": 44,
     "metadata": {},
     "output_type": "execute_result"
    }
   ],
   "source": [
    "read_question('LanguageWorkedWith')"
   ]
  },
  {
   "cell_type": "code",
   "execution_count": 106,
   "id": "62f35cd5",
   "metadata": {},
   "outputs": [
    {
     "data": {
      "text/html": [
       "<div>\n",
       "<style scoped>\n",
       "    .dataframe tbody tr th:only-of-type {\n",
       "        vertical-align: middle;\n",
       "    }\n",
       "\n",
       "    .dataframe tbody tr th {\n",
       "        vertical-align: top;\n",
       "    }\n",
       "\n",
       "    .dataframe thead th {\n",
       "        text-align: right;\n",
       "    }\n",
       "</style>\n",
       "<table border=\"1\" class=\"dataframe\">\n",
       "  <thead>\n",
       "    <tr style=\"text-align: right;\">\n",
       "      <th></th>\n",
       "      <th>index</th>\n",
       "      <th>LanguageWorkedWith</th>\n",
       "    </tr>\n",
       "  </thead>\n",
       "  <tbody>\n",
       "    <tr>\n",
       "      <th>0</th>\n",
       "      <td>HTML/CSS;JavaScript;PHP;SQL</td>\n",
       "      <td>1073</td>\n",
       "    </tr>\n",
       "    <tr>\n",
       "      <th>1</th>\n",
       "      <td>HTML/CSS;JavaScript</td>\n",
       "      <td>900</td>\n",
       "    </tr>\n",
       "    <tr>\n",
       "      <th>2</th>\n",
       "      <td>C#;HTML/CSS;JavaScript;SQL</td>\n",
       "      <td>856</td>\n",
       "    </tr>\n",
       "    <tr>\n",
       "      <th>3</th>\n",
       "      <td>C#;HTML/CSS;JavaScript;SQL;TypeScript</td>\n",
       "      <td>754</td>\n",
       "    </tr>\n",
       "    <tr>\n",
       "      <th>4</th>\n",
       "      <td>HTML/CSS;JavaScript;TypeScript</td>\n",
       "      <td>697</td>\n",
       "    </tr>\n",
       "  </tbody>\n",
       "</table>\n",
       "</div>"
      ],
      "text/plain": [
       "                                   index  LanguageWorkedWith\n",
       "0            HTML/CSS;JavaScript;PHP;SQL                1073\n",
       "1                    HTML/CSS;JavaScript                 900\n",
       "2             C#;HTML/CSS;JavaScript;SQL                 856\n",
       "3  C#;HTML/CSS;JavaScript;SQL;TypeScript                 754\n",
       "4         HTML/CSS;JavaScript;TypeScript                 697"
      ]
     },
     "execution_count": 106,
     "metadata": {},
     "output_type": "execute_result"
    }
   ],
   "source": [
    "#let's see all Have worked languages:\n",
    "work_lang_2020 = df_2020['LanguageWorkedWith'].value_counts().reset_index()\n",
    "work_lang_2020.head()"
   ]
  },
  {
   "cell_type": "code",
   "execution_count": 110,
   "id": "2e38ca68",
   "metadata": {},
   "outputs": [
    {
     "data": {
      "text/html": [
       "<div>\n",
       "<style scoped>\n",
       "    .dataframe tbody tr th:only-of-type {\n",
       "        vertical-align: middle;\n",
       "    }\n",
       "\n",
       "    .dataframe tbody tr th {\n",
       "        vertical-align: top;\n",
       "    }\n",
       "\n",
       "    .dataframe thead th {\n",
       "        text-align: right;\n",
       "    }\n",
       "</style>\n",
       "<table border=\"1\" class=\"dataframe\">\n",
       "  <thead>\n",
       "    <tr style=\"text-align: right;\">\n",
       "      <th></th>\n",
       "      <th>Language</th>\n",
       "      <th>count</th>\n",
       "    </tr>\n",
       "  </thead>\n",
       "  <tbody>\n",
       "    <tr>\n",
       "      <th>0</th>\n",
       "      <td>HTML/CSS;JavaScript;PHP;SQL</td>\n",
       "      <td>1073</td>\n",
       "    </tr>\n",
       "    <tr>\n",
       "      <th>1</th>\n",
       "      <td>HTML/CSS;JavaScript</td>\n",
       "      <td>900</td>\n",
       "    </tr>\n",
       "    <tr>\n",
       "      <th>2</th>\n",
       "      <td>C#;HTML/CSS;JavaScript;SQL</td>\n",
       "      <td>856</td>\n",
       "    </tr>\n",
       "    <tr>\n",
       "      <th>3</th>\n",
       "      <td>C#;HTML/CSS;JavaScript;SQL;TypeScript</td>\n",
       "      <td>754</td>\n",
       "    </tr>\n",
       "    <tr>\n",
       "      <th>4</th>\n",
       "      <td>HTML/CSS;JavaScript;TypeScript</td>\n",
       "      <td>697</td>\n",
       "    </tr>\n",
       "  </tbody>\n",
       "</table>\n",
       "</div>"
      ],
      "text/plain": [
       "                                Language  count\n",
       "0            HTML/CSS;JavaScript;PHP;SQL   1073\n",
       "1                    HTML/CSS;JavaScript    900\n",
       "2             C#;HTML/CSS;JavaScript;SQL    856\n",
       "3  C#;HTML/CSS;JavaScript;SQL;TypeScript    754\n",
       "4         HTML/CSS;JavaScript;TypeScript    697"
      ]
     },
     "execution_count": 110,
     "metadata": {},
     "output_type": "execute_result"
    }
   ],
   "source": [
    "#But we don´t want it to be grouped by participant responses, so let's clean:\n",
    "work_lang_2020.rename(columns={'index': 'Language', 'LanguageWorkedWith': 'count'}, inplace=True)\n",
    "work_lang_2020.head()"
   ]
  },
  {
   "cell_type": "code",
   "execution_count": 111,
   "id": "e12cb81f",
   "metadata": {},
   "outputs": [],
   "source": [
    "#The results:\n",
    "lang_2020_df = lang_count(work_lang_2020, 'Language', 'count', list_of_lang)\n",
    "lang_2020_df.set_index('Language', inplace=True)"
   ]
  },
  {
   "cell_type": "code",
   "execution_count": 252,
   "id": "d1c7a681",
   "metadata": {},
   "outputs": [
    {
     "data": {
      "image/png": "[encoded data removed]",
      "text/plain": [
       "<Figure size 432x288 with 1 Axes>"
      ]
     },
     "metadata": {
      "needs_background": "light"
     },
     "output_type": "display_data"
    }
   ],
   "source": [
    "## results with the percent\n",
    "lang_2020_df['perc'] = lang_2020_df['count']/np.sum(lang_2020_df['count'])\n",
    "## plot bar chart\n",
    "(lang_2020_df['perc']).plot(kind=\"bar\")\n",
    "title= 'Worked Languages: 2020'\n",
    "plt.title(title)\n",
    "plt.show()"
   ]
  },
  {
   "cell_type": "markdown",
   "id": "b2e6465b",
   "metadata": {},
   "source": [
    "#### The top 5 popular worked languages in 2020:\n",
    "#### 1 - C;  2 -Java;  3 - Javascript;  4 - CSS;  5 - HTML.\n"
   ]
  },
  {
   "cell_type": "markdown",
   "id": "c9211ce5",
   "metadata": {},
   "source": [
    "### Programming languages that people want to learn: 2020 "
   ]
  },
  {
   "cell_type": "code",
   "execution_count": 253,
   "id": "270db080",
   "metadata": {},
   "outputs": [
    {
     "data": {
      "text/html": [
       "<div>\n",
       "<style scoped>\n",
       "    .dataframe tbody tr th:only-of-type {\n",
       "        vertical-align: middle;\n",
       "    }\n",
       "\n",
       "    .dataframe tbody tr th {\n",
       "        vertical-align: top;\n",
       "    }\n",
       "\n",
       "    .dataframe thead th {\n",
       "        text-align: right;\n",
       "    }\n",
       "</style>\n",
       "<table border=\"1\" class=\"dataframe\">\n",
       "  <thead>\n",
       "    <tr style=\"text-align: right;\">\n",
       "      <th></th>\n",
       "      <th>index</th>\n",
       "      <th>LanguageDesireNextYear</th>\n",
       "    </tr>\n",
       "  </thead>\n",
       "  <tbody>\n",
       "    <tr>\n",
       "      <th>0</th>\n",
       "      <td>Python</td>\n",
       "      <td>1152</td>\n",
       "    </tr>\n",
       "    <tr>\n",
       "      <th>1</th>\n",
       "      <td>Rust</td>\n",
       "      <td>528</td>\n",
       "    </tr>\n",
       "    <tr>\n",
       "      <th>2</th>\n",
       "      <td>HTML/CSS;JavaScript;TypeScript</td>\n",
       "      <td>499</td>\n",
       "    </tr>\n",
       "    <tr>\n",
       "      <th>3</th>\n",
       "      <td>C#</td>\n",
       "      <td>461</td>\n",
       "    </tr>\n",
       "    <tr>\n",
       "      <th>4</th>\n",
       "      <td>Go</td>\n",
       "      <td>412</td>\n",
       "    </tr>\n",
       "  </tbody>\n",
       "</table>\n",
       "</div>"
      ],
      "text/plain": [
       "                            index  LanguageDesireNextYear\n",
       "0                          Python                    1152\n",
       "1                            Rust                     528\n",
       "2  HTML/CSS;JavaScript;TypeScript                     499\n",
       "3                              C#                     461\n",
       "4                              Go                     412"
      ]
     },
     "execution_count": 253,
     "metadata": {},
     "output_type": "execute_result"
    }
   ],
   "source": [
    "want_lang_2020 = df_2020['LanguageDesireNextYear'].value_counts().reset_index()\n",
    "want_lang_2020.head()"
   ]
  },
  {
   "cell_type": "code",
   "execution_count": 254,
   "id": "74d28846",
   "metadata": {},
   "outputs": [
    {
     "data": {
      "text/html": [
       "<div>\n",
       "<style scoped>\n",
       "    .dataframe tbody tr th:only-of-type {\n",
       "        vertical-align: middle;\n",
       "    }\n",
       "\n",
       "    .dataframe tbody tr th {\n",
       "        vertical-align: top;\n",
       "    }\n",
       "\n",
       "    .dataframe thead th {\n",
       "        text-align: right;\n",
       "    }\n",
       "</style>\n",
       "<table border=\"1\" class=\"dataframe\">\n",
       "  <thead>\n",
       "    <tr style=\"text-align: right;\">\n",
       "      <th></th>\n",
       "      <th>Language</th>\n",
       "      <th>count</th>\n",
       "    </tr>\n",
       "  </thead>\n",
       "  <tbody>\n",
       "    <tr>\n",
       "      <th>0</th>\n",
       "      <td>Python</td>\n",
       "      <td>1152</td>\n",
       "    </tr>\n",
       "    <tr>\n",
       "      <th>1</th>\n",
       "      <td>Rust</td>\n",
       "      <td>528</td>\n",
       "    </tr>\n",
       "    <tr>\n",
       "      <th>2</th>\n",
       "      <td>HTML/CSS;JavaScript;TypeScript</td>\n",
       "      <td>499</td>\n",
       "    </tr>\n",
       "    <tr>\n",
       "      <th>3</th>\n",
       "      <td>C#</td>\n",
       "      <td>461</td>\n",
       "    </tr>\n",
       "    <tr>\n",
       "      <th>4</th>\n",
       "      <td>Go</td>\n",
       "      <td>412</td>\n",
       "    </tr>\n",
       "  </tbody>\n",
       "</table>\n",
       "</div>"
      ],
      "text/plain": [
       "                         Language  count\n",
       "0                          Python   1152\n",
       "1                            Rust    528\n",
       "2  HTML/CSS;JavaScript;TypeScript    499\n",
       "3                              C#    461\n",
       "4                              Go    412"
      ]
     },
     "execution_count": 254,
     "metadata": {},
     "output_type": "execute_result"
    }
   ],
   "source": [
    "#But we don´t want it to be grouped by participant responses, so let's clean:\n",
    "want_lang_2020.rename(columns={'index': 'Language', 'LanguageDesireNextYear': 'count'}, inplace=True)\n",
    "want_lang_2020.head()"
   ]
  },
  {
   "cell_type": "code",
   "execution_count": 255,
   "id": "26c1d472",
   "metadata": {},
   "outputs": [],
   "source": [
    "#The results:\n",
    "fut_lang_20_df = lang_count(want_lang_2020, 'Language', 'count', list_of_lang)\n",
    "fut_lang_20_df.set_index('Language', inplace=True)"
   ]
  },
  {
   "cell_type": "code",
   "execution_count": 256,
   "id": "a0d72cb9",
   "metadata": {},
   "outputs": [
    {
     "data": {
      "image/png": "[encoded data removed]",
      "text/plain": [
       "<Figure size 432x288 with 1 Axes>"
      ]
     },
     "metadata": {
      "needs_background": "light"
     },
     "output_type": "display_data"
    }
   ],
   "source": [
    "## results with the percent\n",
    "fut_lang_20_df['perc'] = fut_lang_20_df['count']/np.sum(fut_lang_20_df['count'])\n",
    "## plot bar chart\n",
    "(fut_lang_20_df['perc']).plot(kind=\"bar\")\n",
    "title= 'Wanted Languages: 2020'\n",
    "plt.title(title)\n",
    "plt.show()"
   ]
  },
  {
   "cell_type": "markdown",
   "id": "bb30600f",
   "metadata": {},
   "source": [
    "#### The top 5 popular worked languages in 2020:\n",
    "#### 1 - C;  2 -Java;  3 - Python;  4 - JavaScript;  5 - CSS."
   ]
  },
  {
   "cell_type": "markdown",
   "id": "9ca56061",
   "metadata": {},
   "source": [
    "\n",
    "### Popular Languages: 2021 "
   ]
  },
  {
   "cell_type": "markdown",
   "id": "59a91846",
   "metadata": {},
   "source": [
    "\n",
    "#### Have Worked Languages "
   ]
  },
  {
   "cell_type": "code",
   "execution_count": 115,
   "id": "cab3770d",
   "metadata": {},
   "outputs": [],
   "source": [
    "lang_2021 =(df_2021.iloc[:,16]).dropna() #identify column and remove null values"
   ]
  },
  {
   "cell_type": "code",
   "execution_count": 116,
   "id": "1a4f2187",
   "metadata": {},
   "outputs": [],
   "source": [
    "#list of all the possible answers - 2021\n",
    "list_of_lang = [\"Assembly\", \"Bash/Shell\",\"C\", \"C++\",\"C#\",\"Clojure\",\"Cobol\",\"CoffeScript\", \"Common Lisp\",\"Dart\",\n",
    "                \"CSS\",\"Delphi/Object Pascal\",\"Elixir\",\"Erlang\",\"Hack\",\"F#\", \"Go\",\"Groovy\",\"Haskell\",\"HTML\",\"Java\", \n",
    "                \"JavaScript\",\"Julia\",\"Kotlin\",\"Lua\",\"Matlab\",\"Node.js\",\"Objective-C\",\"Perl\",\"Python\", \"R\",\"Ruby\",\"Rust\",\n",
    "                \"Scala\",\"Smaltalk\",\"SQL\",\"Swift\",\"TypeScript\",\"VBA\",\"VB.NET\",\"Visual Basic 6\"]"
   ]
  },
  {
   "cell_type": "code",
   "execution_count": 117,
   "id": "5bfa56a1",
   "metadata": {},
   "outputs": [
    {
     "data": {
      "text/html": [
       "<div>\n",
       "<style scoped>\n",
       "    .dataframe tbody tr th:only-of-type {\n",
       "        vertical-align: middle;\n",
       "    }\n",
       "\n",
       "    .dataframe tbody tr th {\n",
       "        vertical-align: top;\n",
       "    }\n",
       "\n",
       "    .dataframe thead th {\n",
       "        text-align: right;\n",
       "    }\n",
       "</style>\n",
       "<table border=\"1\" class=\"dataframe\">\n",
       "  <thead>\n",
       "    <tr style=\"text-align: right;\">\n",
       "      <th></th>\n",
       "      <th>index</th>\n",
       "      <th>LanguageHaveWorkedWith</th>\n",
       "    </tr>\n",
       "  </thead>\n",
       "  <tbody>\n",
       "    <tr>\n",
       "      <th>0</th>\n",
       "      <td>Python</td>\n",
       "      <td>1337</td>\n",
       "    </tr>\n",
       "    <tr>\n",
       "      <th>1</th>\n",
       "      <td>HTML/CSS;JavaScript;Node.js;TypeScript</td>\n",
       "      <td>811</td>\n",
       "    </tr>\n",
       "    <tr>\n",
       "      <th>2</th>\n",
       "      <td>Java</td>\n",
       "      <td>715</td>\n",
       "    </tr>\n",
       "    <tr>\n",
       "      <th>3</th>\n",
       "      <td>HTML/CSS;JavaScript;PHP;SQL</td>\n",
       "      <td>674</td>\n",
       "    </tr>\n",
       "    <tr>\n",
       "      <th>4</th>\n",
       "      <td>C#</td>\n",
       "      <td>597</td>\n",
       "    </tr>\n",
       "  </tbody>\n",
       "</table>\n",
       "</div>"
      ],
      "text/plain": [
       "                                    index  LanguageHaveWorkedWith\n",
       "0                                  Python                    1337\n",
       "1  HTML/CSS;JavaScript;Node.js;TypeScript                     811\n",
       "2                                    Java                     715\n",
       "3             HTML/CSS;JavaScript;PHP;SQL                     674\n",
       "4                                      C#                     597"
      ]
     },
     "execution_count": 117,
     "metadata": {},
     "output_type": "execute_result"
    }
   ],
   "source": [
    "work_lang_2021 = lang_2021.value_counts().reset_index()\n",
    "work_lang_2021.head()"
   ]
  },
  {
   "cell_type": "code",
   "execution_count": 118,
   "id": "fd8ef2f4",
   "metadata": {},
   "outputs": [
    {
     "data": {
      "text/html": [
       "<div>\n",
       "<style scoped>\n",
       "    .dataframe tbody tr th:only-of-type {\n",
       "        vertical-align: middle;\n",
       "    }\n",
       "\n",
       "    .dataframe tbody tr th {\n",
       "        vertical-align: top;\n",
       "    }\n",
       "\n",
       "    .dataframe thead th {\n",
       "        text-align: right;\n",
       "    }\n",
       "</style>\n",
       "<table border=\"1\" class=\"dataframe\">\n",
       "  <thead>\n",
       "    <tr style=\"text-align: right;\">\n",
       "      <th></th>\n",
       "      <th>Language</th>\n",
       "      <th>count</th>\n",
       "    </tr>\n",
       "  </thead>\n",
       "  <tbody>\n",
       "    <tr>\n",
       "      <th>0</th>\n",
       "      <td>Python</td>\n",
       "      <td>1337</td>\n",
       "    </tr>\n",
       "    <tr>\n",
       "      <th>1</th>\n",
       "      <td>HTML/CSS;JavaScript;Node.js;TypeScript</td>\n",
       "      <td>811</td>\n",
       "    </tr>\n",
       "    <tr>\n",
       "      <th>2</th>\n",
       "      <td>Java</td>\n",
       "      <td>715</td>\n",
       "    </tr>\n",
       "    <tr>\n",
       "      <th>3</th>\n",
       "      <td>HTML/CSS;JavaScript;PHP;SQL</td>\n",
       "      <td>674</td>\n",
       "    </tr>\n",
       "    <tr>\n",
       "      <th>4</th>\n",
       "      <td>C#</td>\n",
       "      <td>597</td>\n",
       "    </tr>\n",
       "  </tbody>\n",
       "</table>\n",
       "</div>"
      ],
      "text/plain": [
       "                                 Language  count\n",
       "0                                  Python   1337\n",
       "1  HTML/CSS;JavaScript;Node.js;TypeScript    811\n",
       "2                                    Java    715\n",
       "3             HTML/CSS;JavaScript;PHP;SQL    674\n",
       "4                                      C#    597"
      ]
     },
     "execution_count": 118,
     "metadata": {},
     "output_type": "execute_result"
    }
   ],
   "source": [
    "work_lang_2021.rename(columns={'index': 'Language', 'LanguageHaveWorkedWith': 'count'}, inplace=True)\n",
    "work_lang_2021.head()"
   ]
  },
  {
   "cell_type": "code",
   "execution_count": 119,
   "id": "c27b8847",
   "metadata": {},
   "outputs": [],
   "source": [
    "#The results:\n",
    "lang_2021_df = lang_count(work_lang_2021, 'Language', 'count', list_of_lang)\n",
    "lang_2021_df.set_index('Language', inplace=True)"
   ]
  },
  {
   "cell_type": "code",
   "execution_count": 196,
   "id": "408232ba",
   "metadata": {},
   "outputs": [
    {
     "data": {
      "image/png": "[encoded data removed]",
      "text/plain": [
       "<Figure size 432x288 with 1 Axes>"
      ]
     },
     "metadata": {
      "needs_background": "light"
     },
     "output_type": "display_data"
    }
   ],
   "source": [
    "## results with the percent\n",
    "lang_2021_df['perc'] = lang_2021_df['count']/np.sum(lang_2021_df['count'])\n",
    "## plot bar chart\n",
    "(lang_2021_df['perc']).plot(kind=\"bar\")\n",
    "title= 'Worked Languages: 2021'\n",
    "plt.title(title)\n",
    "plt.show()"
   ]
  },
  {
   "cell_type": "markdown",
   "id": "c650ad86",
   "metadata": {},
   "source": [
    "#### The top 5 popular worked languages in 2021:\n",
    "#### 1 - C;  2 -Java;  3 - Javascript;  4 - CSS;  5 - HTML.\n"
   ]
  },
  {
   "cell_type": "markdown",
   "id": "59a9db83",
   "metadata": {},
   "source": [
    "### Programming languages that people want to learn: 2021 "
   ]
  },
  {
   "cell_type": "code",
   "execution_count": 197,
   "id": "4fa77b91",
   "metadata": {},
   "outputs": [],
   "source": [
    "lang_2021 =(df_2021.iloc[:,17]).dropna() #identify column and remove null values"
   ]
  },
  {
   "cell_type": "code",
   "execution_count": 198,
   "id": "1be6c508",
   "metadata": {},
   "outputs": [
    {
     "data": {
      "text/html": [
       "<div>\n",
       "<style scoped>\n",
       "    .dataframe tbody tr th:only-of-type {\n",
       "        vertical-align: middle;\n",
       "    }\n",
       "\n",
       "    .dataframe tbody tr th {\n",
       "        vertical-align: top;\n",
       "    }\n",
       "\n",
       "    .dataframe thead th {\n",
       "        text-align: right;\n",
       "    }\n",
       "</style>\n",
       "<table border=\"1\" class=\"dataframe\">\n",
       "  <thead>\n",
       "    <tr style=\"text-align: right;\">\n",
       "      <th></th>\n",
       "      <th>index</th>\n",
       "      <th>LanguageWantToWorkWith</th>\n",
       "    </tr>\n",
       "  </thead>\n",
       "  <tbody>\n",
       "    <tr>\n",
       "      <th>0</th>\n",
       "      <td>Python</td>\n",
       "      <td>1389</td>\n",
       "    </tr>\n",
       "    <tr>\n",
       "      <th>1</th>\n",
       "      <td>Rust</td>\n",
       "      <td>821</td>\n",
       "    </tr>\n",
       "    <tr>\n",
       "      <th>2</th>\n",
       "      <td>HTML/CSS;JavaScript;Node.js;TypeScript</td>\n",
       "      <td>812</td>\n",
       "    </tr>\n",
       "    <tr>\n",
       "      <th>3</th>\n",
       "      <td>C#</td>\n",
       "      <td>700</td>\n",
       "    </tr>\n",
       "    <tr>\n",
       "      <th>4</th>\n",
       "      <td>Java</td>\n",
       "      <td>512</td>\n",
       "    </tr>\n",
       "  </tbody>\n",
       "</table>\n",
       "</div>"
      ],
      "text/plain": [
       "                                    index  LanguageWantToWorkWith\n",
       "0                                  Python                    1389\n",
       "1                                    Rust                     821\n",
       "2  HTML/CSS;JavaScript;Node.js;TypeScript                     812\n",
       "3                                      C#                     700\n",
       "4                                    Java                     512"
      ]
     },
     "execution_count": 198,
     "metadata": {},
     "output_type": "execute_result"
    }
   ],
   "source": [
    "want_lang_2021 = lang_2021.value_counts().reset_index()\n",
    "want_lang_2021.head()"
   ]
  },
  {
   "cell_type": "code",
   "execution_count": 199,
   "id": "1f1f2618",
   "metadata": {},
   "outputs": [
    {
     "data": {
      "text/html": [
       "<div>\n",
       "<style scoped>\n",
       "    .dataframe tbody tr th:only-of-type {\n",
       "        vertical-align: middle;\n",
       "    }\n",
       "\n",
       "    .dataframe tbody tr th {\n",
       "        vertical-align: top;\n",
       "    }\n",
       "\n",
       "    .dataframe thead th {\n",
       "        text-align: right;\n",
       "    }\n",
       "</style>\n",
       "<table border=\"1\" class=\"dataframe\">\n",
       "  <thead>\n",
       "    <tr style=\"text-align: right;\">\n",
       "      <th></th>\n",
       "      <th>Language</th>\n",
       "      <th>count</th>\n",
       "    </tr>\n",
       "  </thead>\n",
       "  <tbody>\n",
       "    <tr>\n",
       "      <th>0</th>\n",
       "      <td>Python</td>\n",
       "      <td>1389</td>\n",
       "    </tr>\n",
       "    <tr>\n",
       "      <th>1</th>\n",
       "      <td>Rust</td>\n",
       "      <td>821</td>\n",
       "    </tr>\n",
       "    <tr>\n",
       "      <th>2</th>\n",
       "      <td>HTML/CSS;JavaScript;Node.js;TypeScript</td>\n",
       "      <td>812</td>\n",
       "    </tr>\n",
       "    <tr>\n",
       "      <th>3</th>\n",
       "      <td>C#</td>\n",
       "      <td>700</td>\n",
       "    </tr>\n",
       "    <tr>\n",
       "      <th>4</th>\n",
       "      <td>Java</td>\n",
       "      <td>512</td>\n",
       "    </tr>\n",
       "  </tbody>\n",
       "</table>\n",
       "</div>"
      ],
      "text/plain": [
       "                                 Language  count\n",
       "0                                  Python   1389\n",
       "1                                    Rust    821\n",
       "2  HTML/CSS;JavaScript;Node.js;TypeScript    812\n",
       "3                                      C#    700\n",
       "4                                    Java    512"
      ]
     },
     "execution_count": 199,
     "metadata": {},
     "output_type": "execute_result"
    }
   ],
   "source": [
    "want_lang_2021.rename(columns={'index': 'Language', 'LanguageWantToWorkWith': 'count'}, inplace=True)\n",
    "want_lang_2021.head()"
   ]
  },
  {
   "cell_type": "code",
   "execution_count": 200,
   "id": "7110ed14",
   "metadata": {},
   "outputs": [],
   "source": [
    "#The results:\n",
    "fut_lang_21_df = lang_count(want_lang_2021, 'Language', 'count', list_of_lang)\n",
    "fut_lang_21_df.set_index('Language', inplace=True)"
   ]
  },
  {
   "cell_type": "code",
   "execution_count": 201,
   "id": "5b566a7b",
   "metadata": {},
   "outputs": [
    {
     "data": {
      "image/png": "[encoded data removed]",
      "text/plain": [
       "<Figure size 432x288 with 1 Axes>"
      ]
     },
     "metadata": {
      "needs_background": "light"
     },
     "output_type": "display_data"
    }
   ],
   "source": [
    "## results with the percent\n",
    "fut_lang_21_df['perc'] = fut_lang_21_df['count']/np.sum(fut_lang_21_df['count'])\n",
    "## plot bar chart\n",
    "(fut_lang_21_df['perc']).plot(kind=\"bar\")\n",
    "title= 'Wanted Languages: 2021'\n",
    "plt.title(title)\n",
    "plt.show()"
   ]
  },
  {
   "cell_type": "markdown",
   "id": "c889cb7b",
   "metadata": {},
   "source": [
    "#### The top 5 popular wanted languages in 2021:\n",
    "#### 1 - C;  2 -Java;  3 - JavaScript;  4 - Python;  5 - CSS.\n"
   ]
  },
  {
   "cell_type": "markdown",
   "id": "a58977af",
   "metadata": {},
   "source": [
    "### Some sorted questions:"
   ]
  },
  {
   "cell_type": "markdown",
   "id": "4d37209a",
   "metadata": {},
   "source": [
    "#### occupation 2016"
   ]
  },
  {
   "cell_type": "code",
   "execution_count": 419,
   "id": "c23ad014",
   "metadata": {},
   "outputs": [
    {
     "data": {
      "text/plain": [
       "Text(0.5, 1.0, ' occupation? (2016)')"
      ]
     },
     "execution_count": 419,
     "metadata": {},
     "output_type": "execute_result"
    },
    {
     "data": {
      "image/png": "[encoded data removed]",
      "text/plain": [
       "<Figure size 432x288 with 1 Axes>"
      ]
     },
     "metadata": {
      "needs_background": "light"
     },
     "output_type": "display_data"
    }
   ],
   "source": [
    "#drop null values,get proportion and plot\n",
    "((((df_2016.iloc[:,9]).dropna()).value_counts())/df_2016.shape[0]).plot(kind=\"bar\") \n",
    "plt.title(' occupation? (2016)')"
   ]
  },
  {
   "cell_type": "markdown",
   "id": "5f9ed135",
   "metadata": {},
   "source": [
    "#### Do people who program as a hobby tend to reach higher salaries?"
   ]
  },
  {
   "cell_type": "code",
   "execution_count": 362,
   "id": "aac3f8c9",
   "metadata": {},
   "outputs": [
    {
     "data": {
      "text/plain": [
       "ProgramHobby\n",
       "No                                           53890.797405\n",
       "Yes, I program as a hobby                    54530.681984\n",
       "Yes, I contribute to open source projects    59019.558827\n",
       "Yes, both                                    60393.567188\n",
       "Name: Salary, dtype: float64"
      ]
     },
     "execution_count": 362,
     "metadata": {},
     "output_type": "execute_result"
    }
   ],
   "source": [
    "#2017\n",
    "df_2017.groupby(['ProgramHobby']).mean()['Salary'].sort_values().dropna()"
   ]
  },
  {
   "cell_type": "code",
   "execution_count": 435,
   "id": "38d7b709",
   "metadata": {},
   "outputs": [
    {
     "data": {
      "text/plain": [
       "Hobbyist\n",
       "No     100895.016853\n",
       "Yes    104621.243086\n",
       "Name: ConvertedComp, dtype: float64"
      ]
     },
     "execution_count": 435,
     "metadata": {},
     "output_type": "execute_result"
    }
   ],
   "source": [
    "#2020\n",
    "df_2020.groupby(['Hobbyist']).mean()['ConvertedComp'].sort_values().dropna()"
   ]
  },
  {
   "cell_type": "markdown",
   "id": "ac42b02a",
   "metadata": {},
   "source": [
    "#### With very closed values, but, apparently, people who code for hobby do have higher salaries ."
   ]
  },
  {
   "cell_type": "markdown",
   "id": "c8de6e37",
   "metadata": {},
   "source": [
    "#### Do people with more years of professional coding have higher salaries?"
   ]
  },
  {
   "cell_type": "code",
   "execution_count": 423,
   "id": "3559838a",
   "metadata": {},
   "outputs": [
    {
     "data": {
      "text/plain": [
       "YearsCodedJob\n",
       "Less than a year    33298.752045\n",
       "1 to 2 years        34152.737761\n",
       "2 to 3 years        38715.287566\n",
       "3 to 4 years        44545.600363\n",
       "4 to 5 years        50307.658965\n",
       "5 to 6 years        52440.943126\n",
       "6 to 7 years        57454.154137\n",
       "7 to 8 years        58952.900696\n",
       "9 to 10 years       63120.608546\n",
       "8 to 9 years        66454.535465\n",
       "10 to 11 years      67455.782631\n",
       "11 to 12 years      71432.175258\n",
       "13 to 14 years      75496.373677\n",
       "16 to 17 years      77528.611481\n",
       "15 to 16 years      79883.655653\n",
       "12 to 13 years      82845.424947\n",
       "14 to 15 years      82865.327534\n",
       "19 to 20 years      86989.034884\n",
       "18 to 19 years      87653.796607\n",
       "17 to 18 years      87996.924977\n",
       "20 or more years    98128.097477\n",
       "Name: Salary, dtype: float64"
      ]
     },
     "execution_count": 423,
     "metadata": {},
     "output_type": "execute_result"
    }
   ],
   "source": [
    "#2017\n",
    "df_2017.groupby(['YearsCodedJob']).mean()['Salary'].sort_values().dropna()"
   ]
  },
  {
   "cell_type": "markdown",
   "id": "2a399557",
   "metadata": {},
   "source": [
    "#### As expected, people who are very satisfied in their jobs have higher salaries:"
   ]
  },
  {
   "cell_type": "code",
   "execution_count": 428,
   "id": "2270e301",
   "metadata": {},
   "outputs": [
    {
     "data": {
      "text/plain": [
       "JobSat\n",
       "Neither satisfied nor dissatisfied     91748.645352\n",
       "Slightly dissatisfied                  95691.666029\n",
       "Slightly satisfied                     97914.980343\n",
       "Very dissatisfied                      98499.218481\n",
       "Very satisfied                        119251.118370\n",
       "Name: ConvertedComp, dtype: float64"
      ]
     },
     "execution_count": 428,
     "metadata": {},
     "output_type": "execute_result"
    }
   ],
   "source": [
    "#salary in USD\n",
    "df_2020.groupby(['JobSat']).mean()['ConvertedComp'].sort_values().dropna()\n"
   ]
  },
  {
   "cell_type": "markdown",
   "id": "208eec65",
   "metadata": {},
   "source": [
    "#### It seems that the country you live has a non neglectable influence in the salaries:"
   ]
  },
  {
   "cell_type": "code",
   "execution_count": 434,
   "id": "b733ad29",
   "metadata": {},
   "outputs": [
    {
     "data": {
      "text/plain": [
       "Country\n",
       "Lesotho                                 24.000000\n",
       "Brunei Darussalam                     2580.000000\n",
       "Sudan                                 3795.000000\n",
       "Burkina Faso                          3960.000000\n",
       "Cameroon                              4450.600000\n",
       "                                        ...      \n",
       "Afghanistan                         148290.125000\n",
       "Ireland                             183000.740351\n",
       "United States                       208826.496443\n",
       "Lao People's Democratic Republic    231275.250000\n",
       "Nomadic                             310924.142857\n",
       "Name: ConvertedComp, Length: 159, dtype: float64"
      ]
     },
     "execution_count": 434,
     "metadata": {},
     "output_type": "execute_result"
    }
   ],
   "source": [
    "df_2020.groupby(['Country']).mean()['ConvertedComp'].sort_values().dropna()\n",
    "\n"
   ]
  },
  {
   "cell_type": "markdown",
   "id": "c3683294",
   "metadata": {},
   "source": [
    "###  The more programming languages you know the higher your salary?"
   ]
  },
  {
   "cell_type": "code",
   "execution_count": 94,
   "id": "713c1d78",
   "metadata": {},
   "outputs": [
    {
     "data": {
      "text/html": [
       "<div>\n",
       "<style scoped>\n",
       "    .dataframe tbody tr th:only-of-type {\n",
       "        vertical-align: middle;\n",
       "    }\n",
       "\n",
       "    .dataframe tbody tr th {\n",
       "        vertical-align: top;\n",
       "    }\n",
       "\n",
       "    .dataframe thead th {\n",
       "        text-align: right;\n",
       "    }\n",
       "</style>\n",
       "<table border=\"1\" class=\"dataframe\">\n",
       "  <thead>\n",
       "    <tr style=\"text-align: right;\">\n",
       "      <th></th>\n",
       "      <th>Language</th>\n",
       "      <th>count</th>\n",
       "      <th>salary_midpoint</th>\n",
       "    </tr>\n",
       "  </thead>\n",
       "  <tbody>\n",
       "    <tr>\n",
       "      <th>18412</th>\n",
       "      <td>Android; AngularJS; C#; Cloud (AWS, GAE, Azure...</td>\n",
       "      <td>1.0</td>\n",
       "      <td>210000.0</td>\n",
       "    </tr>\n",
       "    <tr>\n",
       "      <th>10924</th>\n",
       "      <td>C; C++; C#; Cloud (AWS, GAE, Azure, etc.); PHP...</td>\n",
       "      <td>1.0</td>\n",
       "      <td>210000.0</td>\n",
       "    </tr>\n",
       "    <tr>\n",
       "      <th>15152</th>\n",
       "      <td>AngularJS; C#; Cloud (AWS, GAE, Azure, etc.); ...</td>\n",
       "      <td>1.0</td>\n",
       "      <td>210000.0</td>\n",
       "    </tr>\n",
       "    <tr>\n",
       "      <th>8908</th>\n",
       "      <td>Android; AngularJS; Cloud (AWS, GAE, Azure, et...</td>\n",
       "      <td>1.0</td>\n",
       "      <td>210000.0</td>\n",
       "    </tr>\n",
       "    <tr>\n",
       "      <th>9157</th>\n",
       "      <td>AngularJS; Cassandra; Cloud (AWS, GAE, Azure, ...</td>\n",
       "      <td>1.0</td>\n",
       "      <td>210000.0</td>\n",
       "    </tr>\n",
       "    <tr>\n",
       "      <th>...</th>\n",
       "      <td>...</td>\n",
       "      <td>...</td>\n",
       "      <td>...</td>\n",
       "    </tr>\n",
       "    <tr>\n",
       "      <th>13085</th>\n",
       "      <td>Android; Java; JavaScript; MongoDB; SQL Server</td>\n",
       "      <td>1.0</td>\n",
       "      <td>5000.0</td>\n",
       "    </tr>\n",
       "    <tr>\n",
       "      <th>13082</th>\n",
       "      <td>C#; JavaScript; MongoDB; Node.js; ReactJS; SQL...</td>\n",
       "      <td>1.0</td>\n",
       "      <td>5000.0</td>\n",
       "    </tr>\n",
       "    <tr>\n",
       "      <th>13080</th>\n",
       "      <td>C#; Cloud (AWS, GAE, Azure, etc.); JavaScript;...</td>\n",
       "      <td>1.0</td>\n",
       "      <td>5000.0</td>\n",
       "    </tr>\n",
       "    <tr>\n",
       "      <th>13079</th>\n",
       "      <td>Android; iOS; Objective-C; SQL</td>\n",
       "      <td>1.0</td>\n",
       "      <td>5000.0</td>\n",
       "    </tr>\n",
       "    <tr>\n",
       "      <th>9058</th>\n",
       "      <td>Android; C#; Cloud (AWS, GAE, Azure, etc.); iO...</td>\n",
       "      <td>1.0</td>\n",
       "      <td>5000.0</td>\n",
       "    </tr>\n",
       "  </tbody>\n",
       "</table>\n",
       "<p>13243 rows × 3 columns</p>\n",
       "</div>"
      ],
      "text/plain": [
       "                                                Language  count  \\\n",
       "18412  Android; AngularJS; C#; Cloud (AWS, GAE, Azure...    1.0   \n",
       "10924  C; C++; C#; Cloud (AWS, GAE, Azure, etc.); PHP...    1.0   \n",
       "15152  AngularJS; C#; Cloud (AWS, GAE, Azure, etc.); ...    1.0   \n",
       "8908   Android; AngularJS; Cloud (AWS, GAE, Azure, et...    1.0   \n",
       "9157   AngularJS; Cassandra; Cloud (AWS, GAE, Azure, ...    1.0   \n",
       "...                                                  ...    ...   \n",
       "13085     Android; Java; JavaScript; MongoDB; SQL Server    1.0   \n",
       "13082  C#; JavaScript; MongoDB; Node.js; ReactJS; SQL...    1.0   \n",
       "13080  C#; Cloud (AWS, GAE, Azure, etc.); JavaScript;...    1.0   \n",
       "13079                     Android; iOS; Objective-C; SQL    1.0   \n",
       "9058   Android; C#; Cloud (AWS, GAE, Azure, etc.); iO...    1.0   \n",
       "\n",
       "       salary_midpoint  \n",
       "18412         210000.0  \n",
       "10924         210000.0  \n",
       "15152         210000.0  \n",
       "8908          210000.0  \n",
       "9157          210000.0  \n",
       "...                ...  \n",
       "13085           5000.0  \n",
       "13082           5000.0  \n",
       "13080           5000.0  \n",
       "13079           5000.0  \n",
       "9058            5000.0  \n",
       "\n",
       "[13243 rows x 3 columns]"
      ]
     },
     "execution_count": 94,
     "metadata": {},
     "output_type": "execute_result"
    }
   ],
   "source": [
    "sal_16 = (df_2016.iloc[:,14]).dropna()\n",
    "lang_sal_16= (pd.concat([work_lang_2016, sal_16], axis=1)).dropna()\n",
    "lang_sal_16.sort_values(by =['salary_midpoint'], ascending=False)"
   ]
  },
  {
   "cell_type": "code",
   "execution_count": 92,
   "id": "6d371645",
   "metadata": {},
   "outputs": [
    {
     "data": {
      "text/html": [
       "<div>\n",
       "<style scoped>\n",
       "    .dataframe tbody tr th:only-of-type {\n",
       "        vertical-align: middle;\n",
       "    }\n",
       "\n",
       "    .dataframe tbody tr th {\n",
       "        vertical-align: top;\n",
       "    }\n",
       "\n",
       "    .dataframe thead th {\n",
       "        text-align: right;\n",
       "    }\n",
       "</style>\n",
       "<table border=\"1\" class=\"dataframe\">\n",
       "  <thead>\n",
       "    <tr style=\"text-align: right;\">\n",
       "      <th></th>\n",
       "      <th>Language</th>\n",
       "      <th>count</th>\n",
       "      <th>Salary</th>\n",
       "    </tr>\n",
       "  </thead>\n",
       "  <tbody>\n",
       "    <tr>\n",
       "      <th>6743</th>\n",
       "      <td>Assembly; C; C#; Java; JavaScript; Matlab; PHP...</td>\n",
       "      <td>1.0</td>\n",
       "      <td>195000.000000</td>\n",
       "    </tr>\n",
       "    <tr>\n",
       "      <th>1696</th>\n",
       "      <td>Java; JavaScript; Matlab; Scala</td>\n",
       "      <td>2.0</td>\n",
       "      <td>195000.000000</td>\n",
       "    </tr>\n",
       "    <tr>\n",
       "      <th>6717</th>\n",
       "      <td>Java; PHP; Python; Scala</td>\n",
       "      <td>1.0</td>\n",
       "      <td>193750.000000</td>\n",
       "    </tr>\n",
       "    <tr>\n",
       "      <th>2370</th>\n",
       "      <td>C; CoffeeScript; Elixir; Go; JavaScript; Ruby;...</td>\n",
       "      <td>1.0</td>\n",
       "      <td>192000.000000</td>\n",
       "    </tr>\n",
       "    <tr>\n",
       "      <th>1352</th>\n",
       "      <td>C#; JavaScript; SQL; TypeScript; VB.NET; VBA</td>\n",
       "      <td>3.0</td>\n",
       "      <td>190000.000000</td>\n",
       "    </tr>\n",
       "    <tr>\n",
       "      <th>...</th>\n",
       "      <td>...</td>\n",
       "      <td>...</td>\n",
       "      <td>...</td>\n",
       "    </tr>\n",
       "    <tr>\n",
       "      <th>7078</th>\n",
       "      <td>C++; Matlab; Perl; Python</td>\n",
       "      <td>1.0</td>\n",
       "      <td>1.495774</td>\n",
       "    </tr>\n",
       "    <tr>\n",
       "      <th>8154</th>\n",
       "      <td>Assembly; C; Lua; Perl; Python</td>\n",
       "      <td>1.0</td>\n",
       "      <td>0.757576</td>\n",
       "    </tr>\n",
       "    <tr>\n",
       "      <th>3011</th>\n",
       "      <td>C#; Hack; JavaScript; Matlab; SQL</td>\n",
       "      <td>1.0</td>\n",
       "      <td>0.117457</td>\n",
       "    </tr>\n",
       "    <tr>\n",
       "      <th>2951</th>\n",
       "      <td>C; C++; Go; JavaScript; Lua; PHP; Python</td>\n",
       "      <td>1.0</td>\n",
       "      <td>0.000000</td>\n",
       "    </tr>\n",
       "    <tr>\n",
       "      <th>4517</th>\n",
       "      <td>C; C++; Java; JavaScript; Python; Rust</td>\n",
       "      <td>1.0</td>\n",
       "      <td>0.000000</td>\n",
       "    </tr>\n",
       "  </tbody>\n",
       "</table>\n",
       "<p>2262 rows × 3 columns</p>\n",
       "</div>"
      ],
      "text/plain": [
       "                                               Language  count         Salary\n",
       "6743  Assembly; C; C#; Java; JavaScript; Matlab; PHP...    1.0  195000.000000\n",
       "1696                    Java; JavaScript; Matlab; Scala    2.0  195000.000000\n",
       "6717                           Java; PHP; Python; Scala    1.0  193750.000000\n",
       "2370  C; CoffeeScript; Elixir; Go; JavaScript; Ruby;...    1.0  192000.000000\n",
       "1352       C#; JavaScript; SQL; TypeScript; VB.NET; VBA    3.0  190000.000000\n",
       "...                                                 ...    ...            ...\n",
       "7078                          C++; Matlab; Perl; Python    1.0       1.495774\n",
       "8154                     Assembly; C; Lua; Perl; Python    1.0       0.757576\n",
       "3011                  C#; Hack; JavaScript; Matlab; SQL    1.0       0.117457\n",
       "2951           C; C++; Go; JavaScript; Lua; PHP; Python    1.0       0.000000\n",
       "4517             C; C++; Java; JavaScript; Python; Rust    1.0       0.000000\n",
       "\n",
       "[2262 rows x 3 columns]"
      ]
     },
     "execution_count": 92,
     "metadata": {},
     "output_type": "execute_result"
    }
   ],
   "source": [
    "sal_17=(df_2017['Salary']).dropna()\n",
    "lang_sal_17= (pd.concat([work_lang_2017, sal_17], axis=1)).dropna()\n",
    "lang_sal_17.sort_values(by =['Salary'], ascending=False)"
   ]
  },
  {
   "cell_type": "code",
   "execution_count": 90,
   "id": "1be15c90",
   "metadata": {},
   "outputs": [
    {
     "data": {
      "text/html": [
       "<div>\n",
       "<style scoped>\n",
       "    .dataframe tbody tr th:only-of-type {\n",
       "        vertical-align: middle;\n",
       "    }\n",
       "\n",
       "    .dataframe tbody tr th {\n",
       "        vertical-align: top;\n",
       "    }\n",
       "\n",
       "    .dataframe thead th {\n",
       "        text-align: right;\n",
       "    }\n",
       "</style>\n",
       "<table border=\"1\" class=\"dataframe\">\n",
       "  <thead>\n",
       "    <tr style=\"text-align: right;\">\n",
       "      <th></th>\n",
       "      <th>Language</th>\n",
       "      <th>count</th>\n",
       "      <th>Salary</th>\n",
       "    </tr>\n",
       "  </thead>\n",
       "  <tbody>\n",
       "    <tr>\n",
       "      <th>18237</th>\n",
       "      <td>C#;JavaScript;Python;Ruby;SQL;VB.NET;HTML;CSS;...</td>\n",
       "      <td>1.0</td>\n",
       "      <td>195000.000000</td>\n",
       "    </tr>\n",
       "    <tr>\n",
       "      <th>1696</th>\n",
       "      <td>JavaScript;PHP;SQL;TypeScript;VB.NET;HTML;CSS</td>\n",
       "      <td>5.0</td>\n",
       "      <td>195000.000000</td>\n",
       "    </tr>\n",
       "    <tr>\n",
       "      <th>6743</th>\n",
       "      <td>C;C++;Java;JavaScript;Matlab;PHP;Python;R;Scal...</td>\n",
       "      <td>1.0</td>\n",
       "      <td>195000.000000</td>\n",
       "    </tr>\n",
       "    <tr>\n",
       "      <th>6717</th>\n",
       "      <td>C++;Java;Swift;Kotlin</td>\n",
       "      <td>1.0</td>\n",
       "      <td>193750.000000</td>\n",
       "    </tr>\n",
       "    <tr>\n",
       "      <th>2370</th>\n",
       "      <td>C++;C#;SQL;Visual Basic 6</td>\n",
       "      <td>4.0</td>\n",
       "      <td>192000.000000</td>\n",
       "    </tr>\n",
       "    <tr>\n",
       "      <th>...</th>\n",
       "      <td>...</td>\n",
       "      <td>...</td>\n",
       "      <td>...</td>\n",
       "    </tr>\n",
       "    <tr>\n",
       "      <th>9082</th>\n",
       "      <td>C++;Go;Python;R;SQL;TypeScript;Bash/Shell</td>\n",
       "      <td>1.0</td>\n",
       "      <td>0.014682</td>\n",
       "    </tr>\n",
       "    <tr>\n",
       "      <th>23953</th>\n",
       "      <td>C++;Go;Java;JavaScript;Python;R;Scala;SQL;Bash...</td>\n",
       "      <td>1.0</td>\n",
       "      <td>0.000000</td>\n",
       "    </tr>\n",
       "    <tr>\n",
       "      <th>23907</th>\n",
       "      <td>C;C++;CoffeeScript;JavaScript;SQL;TypeScript;H...</td>\n",
       "      <td>1.0</td>\n",
       "      <td>0.000000</td>\n",
       "    </tr>\n",
       "    <tr>\n",
       "      <th>4517</th>\n",
       "      <td>C;C++;PHP;SQL;Delphi/Object Pascal;HTML;CSS</td>\n",
       "      <td>2.0</td>\n",
       "      <td>0.000000</td>\n",
       "    </tr>\n",
       "    <tr>\n",
       "      <th>2951</th>\n",
       "      <td>C++;C#;Go;JavaScript;PHP;Python;SQL;HTML;CSS;B...</td>\n",
       "      <td>3.0</td>\n",
       "      <td>0.000000</td>\n",
       "    </tr>\n",
       "  </tbody>\n",
       "</table>\n",
       "<p>6592 rows × 3 columns</p>\n",
       "</div>"
      ],
      "text/plain": [
       "                                                Language  count         Salary\n",
       "18237  C#;JavaScript;Python;Ruby;SQL;VB.NET;HTML;CSS;...    1.0  195000.000000\n",
       "1696       JavaScript;PHP;SQL;TypeScript;VB.NET;HTML;CSS    5.0  195000.000000\n",
       "6743   C;C++;Java;JavaScript;Matlab;PHP;Python;R;Scal...    1.0  195000.000000\n",
       "6717                               C++;Java;Swift;Kotlin    1.0  193750.000000\n",
       "2370                           C++;C#;SQL;Visual Basic 6    4.0  192000.000000\n",
       "...                                                  ...    ...            ...\n",
       "9082           C++;Go;Python;R;SQL;TypeScript;Bash/Shell    1.0       0.014682\n",
       "23953  C++;Go;Java;JavaScript;Python;R;Scala;SQL;Bash...    1.0       0.000000\n",
       "23907  C;C++;CoffeeScript;JavaScript;SQL;TypeScript;H...    1.0       0.000000\n",
       "4517         C;C++;PHP;SQL;Delphi/Object Pascal;HTML;CSS    2.0       0.000000\n",
       "2951   C++;C#;Go;JavaScript;PHP;Python;SQL;HTML;CSS;B...    3.0       0.000000\n",
       "\n",
       "[6592 rows x 3 columns]"
      ]
     },
     "execution_count": 90,
     "metadata": {},
     "output_type": "execute_result"
    }
   ],
   "source": [
    "sal_18=(df_2017['Salary']).dropna()\n",
    "lang_sal_18= (pd.concat([work_lang_2018, sal_18], axis=1)).dropna()\n",
    "lang_sal_18.sort_values(by =['Salary'], ascending=False)"
   ]
  },
  {
   "cell_type": "code",
   "execution_count": 122,
   "id": "e8be5c25",
   "metadata": {},
   "outputs": [
    {
     "data": {
      "text/html": [
       "<div>\n",
       "<style scoped>\n",
       "    .dataframe tbody tr th:only-of-type {\n",
       "        vertical-align: middle;\n",
       "    }\n",
       "\n",
       "    .dataframe tbody tr th {\n",
       "        vertical-align: top;\n",
       "    }\n",
       "\n",
       "    .dataframe thead th {\n",
       "        text-align: right;\n",
       "    }\n",
       "</style>\n",
       "<table border=\"1\" class=\"dataframe\">\n",
       "  <thead>\n",
       "    <tr style=\"text-align: right;\">\n",
       "      <th></th>\n",
       "      <th>Language</th>\n",
       "      <th>count</th>\n",
       "      <th>ConvertedComp</th>\n",
       "    </tr>\n",
       "  </thead>\n",
       "  <tbody>\n",
       "    <tr>\n",
       "      <th>20097</th>\n",
       "      <td>Assembly;Bash/Shell/PowerShell;C;C#;HTML/CSS;J...</td>\n",
       "      <td>1.0</td>\n",
       "      <td>2000000.0</td>\n",
       "    </tr>\n",
       "    <tr>\n",
       "      <th>14519</th>\n",
       "      <td>Bash/Shell/PowerShell;C;C++;Java;JavaScript;Ob...</td>\n",
       "      <td>1.0</td>\n",
       "      <td>2000000.0</td>\n",
       "    </tr>\n",
       "    <tr>\n",
       "      <th>14668</th>\n",
       "      <td>Bash/Shell/PowerShell;C;C++;C#;Go;HTML/CSS;Jav...</td>\n",
       "      <td>1.0</td>\n",
       "      <td>2000000.0</td>\n",
       "    </tr>\n",
       "    <tr>\n",
       "      <th>15762</th>\n",
       "      <td>Bash/Shell/PowerShell;C#;Rust</td>\n",
       "      <td>1.0</td>\n",
       "      <td>2000000.0</td>\n",
       "    </tr>\n",
       "    <tr>\n",
       "      <th>7816</th>\n",
       "      <td>Bash/Shell/PowerShell;C;C++;Dart;Go;HTML/CSS;J...</td>\n",
       "      <td>1.0</td>\n",
       "      <td>2000000.0</td>\n",
       "    </tr>\n",
       "    <tr>\n",
       "      <th>...</th>\n",
       "      <td>...</td>\n",
       "      <td>...</td>\n",
       "      <td>...</td>\n",
       "    </tr>\n",
       "    <tr>\n",
       "      <th>1494</th>\n",
       "      <td>C;C++;C#;HTML/CSS;PHP;SQL</td>\n",
       "      <td>7.0</td>\n",
       "      <td>0.0</td>\n",
       "    </tr>\n",
       "    <tr>\n",
       "      <th>11499</th>\n",
       "      <td>C#;Clojure;HTML/CSS;JavaScript;PHP;SQL;TypeScript</td>\n",
       "      <td>1.0</td>\n",
       "      <td>0.0</td>\n",
       "    </tr>\n",
       "    <tr>\n",
       "      <th>11325</th>\n",
       "      <td>Bash/Shell/PowerShell;HTML/CSS;Java;JavaScript...</td>\n",
       "      <td>1.0</td>\n",
       "      <td>0.0</td>\n",
       "    </tr>\n",
       "    <tr>\n",
       "      <th>11206</th>\n",
       "      <td>Bash/Shell/PowerShell;C#;Go;HTML/CSS;Java;Java...</td>\n",
       "      <td>1.0</td>\n",
       "      <td>0.0</td>\n",
       "    </tr>\n",
       "    <tr>\n",
       "      <th>10089</th>\n",
       "      <td>Bash/Shell/PowerShell;Dart;Go;HTML/CSS;Java;Ja...</td>\n",
       "      <td>1.0</td>\n",
       "      <td>0.0</td>\n",
       "    </tr>\n",
       "  </tbody>\n",
       "</table>\n",
       "<p>12736 rows × 3 columns</p>\n",
       "</div>"
      ],
      "text/plain": [
       "                                                Language  count  ConvertedComp\n",
       "20097  Assembly;Bash/Shell/PowerShell;C;C#;HTML/CSS;J...    1.0      2000000.0\n",
       "14519  Bash/Shell/PowerShell;C;C++;Java;JavaScript;Ob...    1.0      2000000.0\n",
       "14668  Bash/Shell/PowerShell;C;C++;C#;Go;HTML/CSS;Jav...    1.0      2000000.0\n",
       "15762                      Bash/Shell/PowerShell;C#;Rust    1.0      2000000.0\n",
       "7816   Bash/Shell/PowerShell;C;C++;Dart;Go;HTML/CSS;J...    1.0      2000000.0\n",
       "...                                                  ...    ...            ...\n",
       "1494                           C;C++;C#;HTML/CSS;PHP;SQL    7.0            0.0\n",
       "11499  C#;Clojure;HTML/CSS;JavaScript;PHP;SQL;TypeScript    1.0            0.0\n",
       "11325  Bash/Shell/PowerShell;HTML/CSS;Java;JavaScript...    1.0            0.0\n",
       "11206  Bash/Shell/PowerShell;C#;Go;HTML/CSS;Java;Java...    1.0            0.0\n",
       "10089  Bash/Shell/PowerShell;Dart;Go;HTML/CSS;Java;Ja...    1.0            0.0\n",
       "\n",
       "[12736 rows x 3 columns]"
      ]
     },
     "execution_count": 122,
     "metadata": {},
     "output_type": "execute_result"
    }
   ],
   "source": [
    "sal_19=(df_2019['ConvertedComp']).dropna()\n",
    "lang_sal_19= (pd.concat([work_lang_2019, sal_19], axis=1)).dropna()\n",
    "lang_sal_19.sort_values(by =['ConvertedComp'], ascending=False)"
   ]
  },
  {
   "cell_type": "code",
   "execution_count": 128,
   "id": "b8e79c3f",
   "metadata": {},
   "outputs": [
    {
     "data": {
      "text/html": [
       "<div>\n",
       "<style scoped>\n",
       "    .dataframe tbody tr th:only-of-type {\n",
       "        vertical-align: middle;\n",
       "    }\n",
       "\n",
       "    .dataframe tbody tr th {\n",
       "        vertical-align: top;\n",
       "    }\n",
       "\n",
       "    .dataframe thead th {\n",
       "        text-align: right;\n",
       "    }\n",
       "</style>\n",
       "<table border=\"1\" class=\"dataframe\">\n",
       "  <thead>\n",
       "    <tr style=\"text-align: right;\">\n",
       "      <th></th>\n",
       "      <th>Language</th>\n",
       "      <th>count</th>\n",
       "      <th>ConvertedComp</th>\n",
       "    </tr>\n",
       "  </thead>\n",
       "  <tbody>\n",
       "    <tr>\n",
       "      <th>2510</th>\n",
       "      <td>Haskell;HTML/CSS;Java;JavaScript</td>\n",
       "      <td>3.0</td>\n",
       "      <td>2000000.0</td>\n",
       "    </tr>\n",
       "    <tr>\n",
       "      <th>3165</th>\n",
       "      <td>C;C++;Go;Python;SQL</td>\n",
       "      <td>2.0</td>\n",
       "      <td>2000000.0</td>\n",
       "    </tr>\n",
       "    <tr>\n",
       "      <th>4641</th>\n",
       "      <td>C#;Dart;HTML/CSS;Java;JavaScript;Ruby;SQL;Type...</td>\n",
       "      <td>1.0</td>\n",
       "      <td>2000000.0</td>\n",
       "    </tr>\n",
       "    <tr>\n",
       "      <th>3065</th>\n",
       "      <td>HTML/CSS;JavaScript;PHP;Scala;SQL</td>\n",
       "      <td>2.0</td>\n",
       "      <td>2000000.0</td>\n",
       "    </tr>\n",
       "    <tr>\n",
       "      <th>4670</th>\n",
       "      <td>C;C++;HTML/CSS;Java;JavaScript;Objective-C;PHP...</td>\n",
       "      <td>1.0</td>\n",
       "      <td>2000000.0</td>\n",
       "    </tr>\n",
       "    <tr>\n",
       "      <th>...</th>\n",
       "      <td>...</td>\n",
       "      <td>...</td>\n",
       "      <td>...</td>\n",
       "    </tr>\n",
       "    <tr>\n",
       "      <th>8438</th>\n",
       "      <td>Bash/Shell/PowerShell;C;C++;HTML/CSS;Java;Java...</td>\n",
       "      <td>1.0</td>\n",
       "      <td>0.0</td>\n",
       "    </tr>\n",
       "    <tr>\n",
       "      <th>8471</th>\n",
       "      <td>Bash/Shell/PowerShell;C;C#;HTML/CSS;JavaScript...</td>\n",
       "      <td>1.0</td>\n",
       "      <td>0.0</td>\n",
       "    </tr>\n",
       "    <tr>\n",
       "      <th>8567</th>\n",
       "      <td>Assembly;C#;C++;Rust;TypeScript</td>\n",
       "      <td>1.0</td>\n",
       "      <td>0.0</td>\n",
       "    </tr>\n",
       "    <tr>\n",
       "      <th>11114</th>\n",
       "      <td>C++;HTML/CSS;Java;JavaScript;Kotlin;Python;R;SQL</td>\n",
       "      <td>1.0</td>\n",
       "      <td>0.0</td>\n",
       "    </tr>\n",
       "    <tr>\n",
       "      <th>6833</th>\n",
       "      <td>Bash/Shell/PowerShell;C;C++;Objective-C;SQL;Swift</td>\n",
       "      <td>1.0</td>\n",
       "      <td>0.0</td>\n",
       "    </tr>\n",
       "  </tbody>\n",
       "</table>\n",
       "<p>9118 rows × 3 columns</p>\n",
       "</div>"
      ],
      "text/plain": [
       "                                                Language  count  ConvertedComp\n",
       "2510                    Haskell;HTML/CSS;Java;JavaScript    3.0      2000000.0\n",
       "3165                                 C;C++;Go;Python;SQL    2.0      2000000.0\n",
       "4641   C#;Dart;HTML/CSS;Java;JavaScript;Ruby;SQL;Type...    1.0      2000000.0\n",
       "3065                   HTML/CSS;JavaScript;PHP;Scala;SQL    2.0      2000000.0\n",
       "4670   C;C++;HTML/CSS;Java;JavaScript;Objective-C;PHP...    1.0      2000000.0\n",
       "...                                                  ...    ...            ...\n",
       "8438   Bash/Shell/PowerShell;C;C++;HTML/CSS;Java;Java...    1.0            0.0\n",
       "8471   Bash/Shell/PowerShell;C;C#;HTML/CSS;JavaScript...    1.0            0.0\n",
       "8567                     Assembly;C#;C++;Rust;TypeScript    1.0            0.0\n",
       "11114   C++;HTML/CSS;Java;JavaScript;Kotlin;Python;R;SQL    1.0            0.0\n",
       "6833   Bash/Shell/PowerShell;C;C++;Objective-C;SQL;Swift    1.0            0.0\n",
       "\n",
       "[9118 rows x 3 columns]"
      ]
     },
     "execution_count": 128,
     "metadata": {},
     "output_type": "execute_result"
    }
   ],
   "source": [
    "sal_20=(df_2020['ConvertedComp']).dropna()\n",
    "lang_sal_20= (pd.concat([work_lang_2020, sal_20], axis=1)).dropna()\n",
    "lang_sal_20.sort_values(by =['ConvertedComp'], ascending=False)"
   ]
  },
  {
   "cell_type": "code",
   "execution_count": 130,
   "id": "ed628c38",
   "metadata": {},
   "outputs": [
    {
     "data": {
      "text/html": [
       "<div>\n",
       "<style scoped>\n",
       "    .dataframe tbody tr th:only-of-type {\n",
       "        vertical-align: middle;\n",
       "    }\n",
       "\n",
       "    .dataframe tbody tr th {\n",
       "        vertical-align: top;\n",
       "    }\n",
       "\n",
       "    .dataframe thead th {\n",
       "        text-align: right;\n",
       "    }\n",
       "</style>\n",
       "<table border=\"1\" class=\"dataframe\">\n",
       "  <thead>\n",
       "    <tr style=\"text-align: right;\">\n",
       "      <th></th>\n",
       "      <th>Language</th>\n",
       "      <th>count</th>\n",
       "      <th>ConvertedCompYearly</th>\n",
       "    </tr>\n",
       "  </thead>\n",
       "  <tbody>\n",
       "    <tr>\n",
       "      <th>12700</th>\n",
       "      <td>C#;Groovy;HTML/CSS;Java;JavaScript;Kotlin;Node...</td>\n",
       "      <td>1.0</td>\n",
       "      <td>19200000.0</td>\n",
       "    </tr>\n",
       "    <tr>\n",
       "      <th>9608</th>\n",
       "      <td>Elixir;Go;JavaScript;Python</td>\n",
       "      <td>1.0</td>\n",
       "      <td>17500000.0</td>\n",
       "    </tr>\n",
       "    <tr>\n",
       "      <th>5305</th>\n",
       "      <td>C#;Go;HTML/CSS;JavaScript;Node.js;Python;SQL</td>\n",
       "      <td>2.0</td>\n",
       "      <td>15000000.0</td>\n",
       "    </tr>\n",
       "    <tr>\n",
       "      <th>12903</th>\n",
       "      <td>Go;Java;JavaScript;Kotlin;Node.js;PHP;Python;SQL</td>\n",
       "      <td>1.0</td>\n",
       "      <td>14411628.0</td>\n",
       "    </tr>\n",
       "    <tr>\n",
       "      <th>7205</th>\n",
       "      <td>Go;HTML/CSS;JavaScript;Julia;Python;R</td>\n",
       "      <td>1.0</td>\n",
       "      <td>12500000.0</td>\n",
       "    </tr>\n",
       "    <tr>\n",
       "      <th>...</th>\n",
       "      <td>...</td>\n",
       "      <td>...</td>\n",
       "      <td>...</td>\n",
       "    </tr>\n",
       "    <tr>\n",
       "      <th>22453</th>\n",
       "      <td>C++;Dart;HTML/CSS;Java;JavaScript;Kotlin;Node....</td>\n",
       "      <td>1.0</td>\n",
       "      <td>4.0</td>\n",
       "    </tr>\n",
       "    <tr>\n",
       "      <th>22032</th>\n",
       "      <td>Bash/Shell;C;C++;Haskell;Java;JavaScript;LISP;...</td>\n",
       "      <td>1.0</td>\n",
       "      <td>3.0</td>\n",
       "    </tr>\n",
       "    <tr>\n",
       "      <th>15163</th>\n",
       "      <td>Bash/Shell;C++;HTML/CSS;Java;JavaScript;PHP;Py...</td>\n",
       "      <td>1.0</td>\n",
       "      <td>2.0</td>\n",
       "    </tr>\n",
       "    <tr>\n",
       "      <th>1924</th>\n",
       "      <td>C++;Matlab</td>\n",
       "      <td>5.0</td>\n",
       "      <td>1.0</td>\n",
       "    </tr>\n",
       "    <tr>\n",
       "      <th>24285</th>\n",
       "      <td>C;C#;HTML/CSS;Java;JavaScript;Node.js;Objectiv...</td>\n",
       "      <td>1.0</td>\n",
       "      <td>1.0</td>\n",
       "    </tr>\n",
       "  </tbody>\n",
       "</table>\n",
       "<p>16593 rows × 3 columns</p>\n",
       "</div>"
      ],
      "text/plain": [
       "                                                Language  count  \\\n",
       "12700  C#;Groovy;HTML/CSS;Java;JavaScript;Kotlin;Node...    1.0   \n",
       "9608                         Elixir;Go;JavaScript;Python    1.0   \n",
       "5305        C#;Go;HTML/CSS;JavaScript;Node.js;Python;SQL    2.0   \n",
       "12903   Go;Java;JavaScript;Kotlin;Node.js;PHP;Python;SQL    1.0   \n",
       "7205               Go;HTML/CSS;JavaScript;Julia;Python;R    1.0   \n",
       "...                                                  ...    ...   \n",
       "22453  C++;Dart;HTML/CSS;Java;JavaScript;Kotlin;Node....    1.0   \n",
       "22032  Bash/Shell;C;C++;Haskell;Java;JavaScript;LISP;...    1.0   \n",
       "15163  Bash/Shell;C++;HTML/CSS;Java;JavaScript;PHP;Py...    1.0   \n",
       "1924                                          C++;Matlab    5.0   \n",
       "24285  C;C#;HTML/CSS;Java;JavaScript;Node.js;Objectiv...    1.0   \n",
       "\n",
       "       ConvertedCompYearly  \n",
       "12700           19200000.0  \n",
       "9608            17500000.0  \n",
       "5305            15000000.0  \n",
       "12903           14411628.0  \n",
       "7205            12500000.0  \n",
       "...                    ...  \n",
       "22453                  4.0  \n",
       "22032                  3.0  \n",
       "15163                  2.0  \n",
       "1924                   1.0  \n",
       "24285                  1.0  \n",
       "\n",
       "[16593 rows x 3 columns]"
      ]
     },
     "execution_count": 130,
     "metadata": {},
     "output_type": "execute_result"
    }
   ],
   "source": [
    "sal_21=(df_2021['ConvertedCompYearly']).dropna()\n",
    "lang_sal_21= (pd.concat([work_lang_2021, sal_21], axis=1)).dropna()\n",
    "lang_sal_21.sort_values(by =['ConvertedCompYearly'], ascending=False)"
   ]
  },
  {
   "cell_type": "markdown",
   "id": "d003ad6b",
   "metadata": {},
   "source": [
    "#### In fact, we can't say that. It's not true that the more diversifications in programming languages the higher is the salary. \n",
    "#### However, it is true that the top worked languages are included in higher remunerations."
   ]
  },
  {
   "cell_type": "markdown",
   "id": "ccec79ed",
   "metadata": {},
   "source": [
    "## 4 -  Modeling the data."
   ]
  },
  {
   "cell_type": "markdown",
   "id": "e39e8e41",
   "metadata": {},
   "source": [
    "#### Brief exploration:"
   ]
  },
  {
   "cell_type": "markdown",
   "id": "ae09bfd4",
   "metadata": {},
   "source": [
    "#### correlation matrix (2016):"
   ]
  },
  {
   "cell_type": "code",
   "execution_count": 153,
   "id": "ca00f89c",
   "metadata": {},
   "outputs": [
    {
     "data": {
      "image/png": "[encoded data removed]",
      "text/plain": [
       "<Figure size 432x288 with 2 Axes>"
      ]
     },
     "metadata": {
      "needs_background": "light"
     },
     "output_type": "display_data"
    }
   ],
   "source": [
    "sns.heatmap(df_2016.corr(), annot=True, fmt=\".2f\");"
   ]
  },
  {
   "cell_type": "code",
   "execution_count": 5,
   "id": "cd0a8ea2",
   "metadata": {},
   "outputs": [
    {
     "data": {
      "text/plain": [
       "array([[<AxesSubplot:title={'center':'Respondent'}>,\n",
       "        <AxesSubplot:title={'center':'CareerSatisfaction'}>,\n",
       "        <AxesSubplot:title={'center':'JobSatisfaction'}>],\n",
       "       [<AxesSubplot:title={'center':'HoursPerWeek'}>,\n",
       "        <AxesSubplot:title={'center':'StackOverflowSatisfaction'}>,\n",
       "        <AxesSubplot:title={'center':'Salary'}>],\n",
       "       [<AxesSubplot:title={'center':'ExpectedSalary'}>, <AxesSubplot:>,\n",
       "        <AxesSubplot:>]], dtype=object)"
      ]
     },
     "execution_count": 5,
     "metadata": {},
     "output_type": "execute_result"
    },
    {
     "data": {
      "image/png": "[encoded data removed]",
      "text/plain": [
       "<Figure size 432x288 with 9 Axes>"
      ]
     },
     "metadata": {
      "needs_background": "light"
     },
     "output_type": "display_data"
    }
   ],
   "source": [
    "df_2017.hist()"
   ]
  },
  {
   "cell_type": "markdown",
   "id": "79c58d7b",
   "metadata": {},
   "source": [
    "#### We see that salary and experience are correlated; experience and age are highly correlated(>0.5); programming hability is correlated to experience but not highly correlated to salary."
   ]
  },
  {
   "cell_type": "code",
   "execution_count": 155,
   "id": "3d481d17",
   "metadata": {},
   "outputs": [
    {
     "data": {
      "text/html": [
       "<div>\n",
       "<style scoped>\n",
       "    .dataframe tbody tr th:only-of-type {\n",
       "        vertical-align: middle;\n",
       "    }\n",
       "\n",
       "    .dataframe tbody tr th {\n",
       "        vertical-align: top;\n",
       "    }\n",
       "\n",
       "    .dataframe thead th {\n",
       "        text-align: right;\n",
       "    }\n",
       "</style>\n",
       "<table border=\"1\" class=\"dataframe\">\n",
       "  <thead>\n",
       "    <tr style=\"text-align: right;\">\n",
       "      <th></th>\n",
       "      <th>Respondent</th>\n",
       "      <th>Age</th>\n",
       "      <th>CompTotal</th>\n",
       "      <th>ConvertedComp</th>\n",
       "      <th>WorkWeekHrs</th>\n",
       "    </tr>\n",
       "  </thead>\n",
       "  <tbody>\n",
       "    <tr>\n",
       "      <th>count</th>\n",
       "      <td>64461.000000</td>\n",
       "      <td>45446.000000</td>\n",
       "      <td>3.482600e+04</td>\n",
       "      <td>3.475600e+04</td>\n",
       "      <td>41151.000000</td>\n",
       "    </tr>\n",
       "    <tr>\n",
       "      <th>mean</th>\n",
       "      <td>32554.079738</td>\n",
       "      <td>30.834111</td>\n",
       "      <td>3.190464e+242</td>\n",
       "      <td>1.037561e+05</td>\n",
       "      <td>40.782174</td>\n",
       "    </tr>\n",
       "    <tr>\n",
       "      <th>std</th>\n",
       "      <td>18967.442360</td>\n",
       "      <td>9.585392</td>\n",
       "      <td>inf</td>\n",
       "      <td>2.268853e+05</td>\n",
       "      <td>17.816383</td>\n",
       "    </tr>\n",
       "    <tr>\n",
       "      <th>min</th>\n",
       "      <td>1.000000</td>\n",
       "      <td>1.000000</td>\n",
       "      <td>0.000000e+00</td>\n",
       "      <td>0.000000e+00</td>\n",
       "      <td>1.000000</td>\n",
       "    </tr>\n",
       "    <tr>\n",
       "      <th>25%</th>\n",
       "      <td>16116.000000</td>\n",
       "      <td>24.000000</td>\n",
       "      <td>2.000000e+04</td>\n",
       "      <td>2.464800e+04</td>\n",
       "      <td>40.000000</td>\n",
       "    </tr>\n",
       "    <tr>\n",
       "      <th>50%</th>\n",
       "      <td>32231.000000</td>\n",
       "      <td>29.000000</td>\n",
       "      <td>6.300000e+04</td>\n",
       "      <td>5.404900e+04</td>\n",
       "      <td>40.000000</td>\n",
       "    </tr>\n",
       "    <tr>\n",
       "      <th>75%</th>\n",
       "      <td>49142.000000</td>\n",
       "      <td>35.000000</td>\n",
       "      <td>1.250000e+05</td>\n",
       "      <td>9.500000e+04</td>\n",
       "      <td>44.000000</td>\n",
       "    </tr>\n",
       "    <tr>\n",
       "      <th>max</th>\n",
       "      <td>65639.000000</td>\n",
       "      <td>279.000000</td>\n",
       "      <td>1.111111e+247</td>\n",
       "      <td>2.000000e+06</td>\n",
       "      <td>475.000000</td>\n",
       "    </tr>\n",
       "  </tbody>\n",
       "</table>\n",
       "</div>"
      ],
      "text/plain": [
       "         Respondent           Age      CompTotal  ConvertedComp   WorkWeekHrs\n",
       "count  64461.000000  45446.000000   3.482600e+04   3.475600e+04  41151.000000\n",
       "mean   32554.079738     30.834111  3.190464e+242   1.037561e+05     40.782174\n",
       "std    18967.442360      9.585392            inf   2.268853e+05     17.816383\n",
       "min        1.000000      1.000000   0.000000e+00   0.000000e+00      1.000000\n",
       "25%    16116.000000     24.000000   2.000000e+04   2.464800e+04     40.000000\n",
       "50%    32231.000000     29.000000   6.300000e+04   5.404900e+04     40.000000\n",
       "75%    49142.000000     35.000000   1.250000e+05   9.500000e+04     44.000000\n",
       "max    65639.000000    279.000000  1.111111e+247   2.000000e+06    475.000000"
      ]
     },
     "execution_count": 155,
     "metadata": {},
     "output_type": "execute_result"
    }
   ],
   "source": [
    "df_2020.describe()"
   ]
  },
  {
   "cell_type": "markdown",
   "id": "7168741c",
   "metadata": {},
   "source": [
    "### Predicting salary: selected year"
   ]
  },
  {
   "cell_type": "markdown",
   "id": "8d78718f",
   "metadata": {},
   "source": [
    "### 2020"
   ]
  },
  {
   "cell_type": "markdown",
   "id": "a202e605",
   "metadata": {},
   "source": [
    "#### Identify categorical variables"
   ]
  },
  {
   "cell_type": "code",
   "execution_count": 4,
   "id": "914d80ce",
   "metadata": {},
   "outputs": [],
   "source": [
    "#subset to dataframe\n",
    "cat_df=df_2020.select_dtypes(include=['object'])"
   ]
  },
  {
   "cell_type": "code",
   "execution_count": 40,
   "id": "e2ed8483",
   "metadata": {},
   "outputs": [
    {
     "data": {
      "text/plain": [
       "56"
      ]
     },
     "execution_count": 40,
     "metadata": {},
     "output_type": "execute_result"
    }
   ],
   "source": [
    "cat_df.shape[1]"
   ]
  },
  {
   "cell_type": "code",
   "execution_count": 41,
   "id": "265749fc",
   "metadata": {},
   "outputs": [
    {
     "data": {
      "text/plain": [
       "0"
      ]
     },
     "execution_count": 41,
     "metadata": {},
     "output_type": "execute_result"
    }
   ],
   "source": [
    "#number of columns with more than 75% of the missing values:\n",
    "np.sum(np.sum(cat_df.isnull())/cat_df.shape[0]>0.50)"
   ]
  },
  {
   "cell_type": "code",
   "execution_count": 5,
   "id": "2dc5b5f3",
   "metadata": {},
   "outputs": [],
   "source": [
    "#pull list of the column names\n",
    "cat_list = cat_df.columns"
   ]
  },
  {
   "cell_type": "markdown",
   "id": "8d2ce616",
   "metadata": {},
   "source": [
    "#### references: [stackoverflow](https://github.com/jjrunner/stackoverflow)\n",
    "#### observation: The following section is based in the use or slightly adaptations of functions developed in the lessons: \"Categorical Variables\" and \"Putting all Together\", and applied to a different dataset. "
   ]
  },
  {
   "cell_type": "code",
   "execution_count": 90,
   "id": "45b394a8",
   "metadata": {},
   "outputs": [
    {
     "data": {
      "text/plain": [
       "SurveyEase                 object\n",
       "SurveyLength               object\n",
       "Trans                      object\n",
       "UndergradMajor             object\n",
       "WebframeDesireNextYear     object\n",
       "WebframeWorkedWith         object\n",
       "WelcomeChange              object\n",
       "WorkWeekHrs               float64\n",
       "YearsCode                  object\n",
       "YearsCodePro               object\n",
       "dtype: object"
      ]
     },
     "execution_count": 90,
     "metadata": {},
     "output_type": "execute_result"
    }
   ],
   "source": [
    "(df_2020.dtypes).tail(10) #finding quant variables\n"
   ]
  },
  {
   "cell_type": "code",
   "execution_count": 3,
   "id": "989b7adb",
   "metadata": {
    "scrolled": false
   },
   "outputs": [
    {
     "data": {
      "text/plain": [
       "'The r-squared score for the model using only quantitative variables was 1.0 on 10427 values.'"
      ]
     },
     "execution_count": 3,
     "metadata": {},
     "output_type": "execute_result"
    }
   ],
   "source": [
    "#Only use quant variables and drop any rows with missing values\n",
    "num_vars = df_2020[['ConvertedComp','Age','WorkWeekHrs']]\n",
    "\n",
    "#Drop the rows with missing salaries\n",
    "drop_sal_df = num_vars.dropna(subset=['ConvertedComp'], axis=0)\n",
    "\n",
    "# Mean function\n",
    "fill_mean = lambda col: col.fillna(col.mean())\n",
    "# Fill the mean\n",
    "fill_df = drop_sal_df.apply(fill_mean, axis=0)\n",
    "\n",
    "#Split into explanatory and response variables\n",
    "X = fill_df[['ConvertedComp','Age','WorkWeekHrs']]\n",
    "y = fill_df['ConvertedComp']\n",
    "\n",
    "#Split into train and test\n",
    "X_train, X_test, y_train, y_test = train_test_split(X, y, test_size = .30, random_state=42) \n",
    "\n",
    "lm_model = LinearRegression(normalize=True) # Instantiate\n",
    "lm_model.fit(X_train, y_train) #Fit\n",
    "        \n",
    "#Predict and score the model\n",
    "y_test_preds = lm_model.predict(X_test) \n",
    "\"The r-squared score for the model using only quantitative variables was {} on {} values.\".format(r2_score(y_test, y_test_preds), len(y_test))"
   ]
  },
  {
   "cell_type": "code",
   "execution_count": 6,
   "id": "9c67540c",
   "metadata": {},
   "outputs": [],
   "source": [
    "def create_dummy_df(df, cat_cols, dummy_na):\n",
    "    '''\n",
    "    INPUT:\n",
    "    df - pandas dataframe with categorical variables to dummy\n",
    "    cat_cols - list of strings associated with names of categorical column\n",
    "    dummy_na - bool holding when dummy NA values of categorical columns\n",
    "    OUTPUT:\n",
    "    df - new dataframe that:\n",
    "                1 - contains all columns specified as categorical\n",
    "                2 - remove original columns in cat_cols\n",
    "                3 - dummy columns for each categorical columns\n",
    "                4 - if dummy_na ->true, also contains dummy columns for NAN\n",
    "    '''\n",
    "    for col in  cat_cols:\n",
    "        try:\n",
    "            # for each cat add dummy var, drop original column\n",
    "            df = pd.concat([df.drop(col, axis=1), pd.get_dummies(df[col], prefix=col, prefix_sep='_', drop_first=True, dummy_na=dummy_na)], axis=1)\n",
    "        except:\n",
    "            continue\n",
    "    return df"
   ]
  },
  {
   "cell_type": "code",
   "execution_count": 7,
   "id": "6493e1bc",
   "metadata": {},
   "outputs": [],
   "source": [
    "#droping missing values\n",
    "df=df_2020.dropna(subset=['ConvertedComp'], axis=0)"
   ]
  },
  {
   "cell_type": "code",
   "execution_count": 8,
   "id": "a77c1758",
   "metadata": {},
   "outputs": [],
   "source": [
    "#pull list of the column names of categorical variables\n",
    "cat_df=df.select_dtypes(include=['object'])\n",
    "cat_cols_lst=cat_df.columns"
   ]
  },
  {
   "cell_type": "code",
   "execution_count": 9,
   "id": "3b3366ee",
   "metadata": {},
   "outputs": [],
   "source": [
    "df_new = create_dummy_df(df, cat_cols_lst, dummy_na=False) "
   ]
  },
  {
   "cell_type": "code",
   "execution_count": 10,
   "id": "da8bce0e",
   "metadata": {},
   "outputs": [
    {
     "name": "stdout",
     "output_type": "stream",
     "text": [
      "(34756, 57692)\n"
     ]
    }
   ],
   "source": [
    "#Show header:\n",
    "print(df_new.shape)"
   ]
  },
  {
   "cell_type": "code",
   "execution_count": 11,
   "id": "532c215a",
   "metadata": {},
   "outputs": [],
   "source": [
    "def clean_fit_linear_mod(df, response_col, cat_cols, dummy_na, test_size=.3, rand_state=42):\n",
    "    '''\n",
    "    INPUT:\n",
    "    df - a dataframe holding all the variables of interest\n",
    "    response_col - a string holding the name of the column \n",
    "    cat_cols - list of strings that are associated with names of the categorical columns\n",
    "    dummy_na - Bool holding whether you want to dummy NA vals of categorical columns or not\n",
    "    test_size - a float between [0,1] about what proportion of data should be in the test dataset\n",
    "    rand_state - an int that is provided as the random state for splitting the data into training and test \n",
    "    \n",
    "    OUTPUT:\n",
    "    test_score - float - r2 score on the test data\n",
    "    train_score - float - r2 score on the test data\n",
    "    lm_model - model object from sklearn\n",
    "    X_train, X_test, y_train, y_test - output from sklearn train test split used for optimal model\n",
    "    \n",
    "    '''\n",
    "    #Drop rows with missing values\n",
    "    df  = df.dropna(subset=[response_col], axis=0)\n",
    "\n",
    "    #Drop columns with all NaN values\n",
    "    df = df.dropna(how='all', axis=1)\n",
    "\n",
    "    #Dummy categorical variables\n",
    "    df = create_dummy_df(df, cat_cols, dummy_na)\n",
    "\n",
    "    # Mean function\n",
    "    fill_mean = lambda col: col.fillna(col.mean())\n",
    "    # Fill the mean\n",
    "    df = df.apply(fill_mean, axis=0)\n",
    "\n",
    "    #Split into explanatory and response variables\n",
    "    X = df.drop(response_col, axis=1)\n",
    "    y = df[response_col]\n",
    "\n",
    "    #Split into train and test\n",
    "    X_train, X_test, y_train, y_test = train_test_split(X, y, test_size=test_size, random_state=rand_state)\n",
    "\n",
    "    lm_model = LinearRegression(normalize=True) # Instantiate\n",
    "    lm_model.fit(X_train, y_train) #Fit\n",
    "\n",
    "    #Predict using your model\n",
    "    y_test_preds = lm_model.predict(X_test)\n",
    "    y_train_preds = lm_model.predict(X_train)\n",
    "\n",
    "    #Score using your model\n",
    "    test_score = r2_score(y_test, y_test_preds)\n",
    "    train_score = r2_score(y_train, y_train_preds)\n",
    "\n",
    "    return test_score, train_score, lm_model, X_train, X_test, y_train, y_test\n",
    "\n"
   ]
  },
  {
   "cell_type": "code",
   "execution_count": 12,
   "id": "ebdc8a94",
   "metadata": {},
   "outputs": [],
   "source": [
    "#Split into train and test\n",
    "X_train, X_test, y_train, y_test = train_test_split(X, y, test_size = .30, random_state=42) \n"
   ]
  },
  {
   "cell_type": "code",
   "execution_count": null,
   "id": "0c69f695",
   "metadata": {},
   "outputs": [],
   "source": [
    "#Test your function with the above dataset\n",
    "test_score, train_score, lm_model, X_train, X_test, y_train, y_test = clean_fit_linear_mod(df_new, 'ConvertedComp', cat_cols_lst, dummy_na=False)"
   ]
  },
  {
   "cell_type": "code",
   "execution_count": null,
   "id": "f681caba",
   "metadata": {},
   "outputs": [],
   "source": [
    "Print training and testing score\n",
    "print(\"The rsquared on the training data was {}.  The rsquared on the test data was {}.\".format(train_score, test_score))"
   ]
  },
  {
   "cell_type": "markdown",
   "id": "cf4051e5",
   "metadata": {},
   "source": [
    "## 5 - Evaluating the results. "
   ]
  },
  {
   "cell_type": "markdown",
   "id": "06394da4",
   "metadata": {},
   "source": [
    "  ### Question 1 - Top 5 languages that people have worked in the past year (per year):"
   ]
  },
  {
   "cell_type": "markdown",
   "id": "7654c700",
   "metadata": {},
   "source": [
    "|  | 2016| 2017| 2018 | 2019 | 2020 | 2021|\n",
    "|--| --- | ----|------|------|------|-----|\n",
    "|1º| Java|  Java| C| C | C| C|\n",
    "|2º| C|   JavaScript| Java| Java| Java| Java|\n",
    "|3º|JavaScript|  C| JavaScript | JavaScript|JavaScript|JavaScript|\n",
    "|4º|PHP|SQL| HTML |CSS| CSS|CSS|\n",
    "|5º| SQL| Python| CSS |HTML |HTML|HTML|"
   ]
  },
  {
   "cell_type": "markdown",
   "id": "5ed02ff4",
   "metadata": {},
   "source": [
    "### Question 2 - Top 5 languages people want to learn: "
   ]
  },
  {
   "cell_type": "markdown",
   "id": "481eddae",
   "metadata": {},
   "source": [
    "|  | 2016| 2017| 2018 | 2019 | 2020 | 2021|\n",
    "|--| --- | ----|-------|------|-----|------|\n",
    "|1º| C|  Java| C| C | C| C|\n",
    "|2º| Java| C| Java| Java| Java| Java|\n",
    "|3º|R|  C| JavaScript | JavaScript|Python|JavaScript|\n",
    "|4º|JavaScript|Python| Python |Python| JavaScript|Python|\n",
    "|5º| Python| SQL| HTML |CSS |CSS|CSS|"
   ]
  },
  {
   "cell_type": "markdown",
   "id": "e1239c4f",
   "metadata": {},
   "source": [
    "### Question 3 - The more programming languages the higher the salary?\n",
    "\n",
    "#### No, but people who report higher salaries code one of the top 5 worked languages."
   ]
  }
 ],
 "metadata": {
  "kernelspec": {
   "display_name": "Python 3",
   "language": "python",
   "name": "python3"
  },
  "language_info": {
   "codemirror_mode": {
    "name": "ipython",
    "version": 3
   },
   "file_extension": ".py",
   "mimetype": "text/x-python",
   "name": "python",
   "nbconvert_exporter": "python",
   "pygments_lexer": "ipython3",
   "version": "3.9.6"
  }
 },
 "nbformat": 4,
 "nbformat_minor": 5
}
